{
 "cells": [
  {
   "cell_type": "markdown",
   "metadata": {},
   "source": [
    "***\n",
    " # Clustering\n",
    "***\n",
    "***"
   ]
  },
  {
   "cell_type": "markdown",
   "metadata": {},
   "source": [
    "Perform Principal component analysis and perform clustering using first \n",
    "3 principal component scores (both heirarchial and k mean clustering(scree plot or elbow curve) and obtain \n",
    "optimum number of clusters and check whether we have obtained same number of clusters with the original data \n",
    "(class column we have ignored at the begining who shows it has 3 clusters)"
   ]
  },
  {
   "cell_type": "markdown",
   "metadata": {
    "heading_collapsed": true
   },
   "source": [
    "# Step 1: Import Libraries required"
   ]
  },
  {
   "cell_type": "code",
   "execution_count": 1,
   "metadata": {
    "hidden": true
   },
   "outputs": [],
   "source": [
    "import numpy as np\n",
    "import pandas as pd \n",
    "\n",
    "import matplotlib.pyplot as plt\n",
    "import seaborn as sns\n",
    "\n",
    "import warnings\n",
    "warnings.filterwarnings('ignore')"
   ]
  },
  {
   "cell_type": "markdown",
   "metadata": {
    "heading_collapsed": true
   },
   "source": [
    "# Step 2: Dataset Loading & Feature understanding."
   ]
  },
  {
   "cell_type": "code",
   "execution_count": 2,
   "metadata": {
    "hidden": true
   },
   "outputs": [
    {
     "data": {
      "text/html": [
       "<div>\n",
       "<style scoped>\n",
       "    .dataframe tbody tr th:only-of-type {\n",
       "        vertical-align: middle;\n",
       "    }\n",
       "\n",
       "    .dataframe tbody tr th {\n",
       "        vertical-align: top;\n",
       "    }\n",
       "\n",
       "    .dataframe thead th {\n",
       "        text-align: right;\n",
       "    }\n",
       "</style>\n",
       "<table border=\"1\" class=\"dataframe\">\n",
       "  <thead>\n",
       "    <tr style=\"text-align: right;\">\n",
       "      <th></th>\n",
       "      <th>Type</th>\n",
       "      <th>Alcohol</th>\n",
       "      <th>Malic</th>\n",
       "      <th>Ash</th>\n",
       "      <th>Alcalinity</th>\n",
       "      <th>Magnesium</th>\n",
       "      <th>Phenols</th>\n",
       "      <th>Flavanoids</th>\n",
       "      <th>Nonflavanoids</th>\n",
       "      <th>Proanthocyanins</th>\n",
       "      <th>Color</th>\n",
       "      <th>Hue</th>\n",
       "      <th>Dilution</th>\n",
       "      <th>Proline</th>\n",
       "    </tr>\n",
       "  </thead>\n",
       "  <tbody>\n",
       "    <tr>\n",
       "      <th>0</th>\n",
       "      <td>1</td>\n",
       "      <td>14.23</td>\n",
       "      <td>1.71</td>\n",
       "      <td>2.43</td>\n",
       "      <td>15.6</td>\n",
       "      <td>127</td>\n",
       "      <td>2.80</td>\n",
       "      <td>3.06</td>\n",
       "      <td>0.28</td>\n",
       "      <td>2.29</td>\n",
       "      <td>5.64</td>\n",
       "      <td>1.04</td>\n",
       "      <td>3.92</td>\n",
       "      <td>1065</td>\n",
       "    </tr>\n",
       "    <tr>\n",
       "      <th>1</th>\n",
       "      <td>1</td>\n",
       "      <td>13.20</td>\n",
       "      <td>1.78</td>\n",
       "      <td>2.14</td>\n",
       "      <td>11.2</td>\n",
       "      <td>100</td>\n",
       "      <td>2.65</td>\n",
       "      <td>2.76</td>\n",
       "      <td>0.26</td>\n",
       "      <td>1.28</td>\n",
       "      <td>4.38</td>\n",
       "      <td>1.05</td>\n",
       "      <td>3.40</td>\n",
       "      <td>1050</td>\n",
       "    </tr>\n",
       "    <tr>\n",
       "      <th>2</th>\n",
       "      <td>1</td>\n",
       "      <td>13.16</td>\n",
       "      <td>2.36</td>\n",
       "      <td>2.67</td>\n",
       "      <td>18.6</td>\n",
       "      <td>101</td>\n",
       "      <td>2.80</td>\n",
       "      <td>3.24</td>\n",
       "      <td>0.30</td>\n",
       "      <td>2.81</td>\n",
       "      <td>5.68</td>\n",
       "      <td>1.03</td>\n",
       "      <td>3.17</td>\n",
       "      <td>1185</td>\n",
       "    </tr>\n",
       "    <tr>\n",
       "      <th>3</th>\n",
       "      <td>1</td>\n",
       "      <td>14.37</td>\n",
       "      <td>1.95</td>\n",
       "      <td>2.50</td>\n",
       "      <td>16.8</td>\n",
       "      <td>113</td>\n",
       "      <td>3.85</td>\n",
       "      <td>3.49</td>\n",
       "      <td>0.24</td>\n",
       "      <td>2.18</td>\n",
       "      <td>7.80</td>\n",
       "      <td>0.86</td>\n",
       "      <td>3.45</td>\n",
       "      <td>1480</td>\n",
       "    </tr>\n",
       "    <tr>\n",
       "      <th>4</th>\n",
       "      <td>1</td>\n",
       "      <td>13.24</td>\n",
       "      <td>2.59</td>\n",
       "      <td>2.87</td>\n",
       "      <td>21.0</td>\n",
       "      <td>118</td>\n",
       "      <td>2.80</td>\n",
       "      <td>2.69</td>\n",
       "      <td>0.39</td>\n",
       "      <td>1.82</td>\n",
       "      <td>4.32</td>\n",
       "      <td>1.04</td>\n",
       "      <td>2.93</td>\n",
       "      <td>735</td>\n",
       "    </tr>\n",
       "  </tbody>\n",
       "</table>\n",
       "</div>"
      ],
      "text/plain": [
       "   Type  Alcohol  Malic   Ash  Alcalinity  Magnesium  Phenols  Flavanoids  \\\n",
       "0     1    14.23   1.71  2.43        15.6        127     2.80        3.06   \n",
       "1     1    13.20   1.78  2.14        11.2        100     2.65        2.76   \n",
       "2     1    13.16   2.36  2.67        18.6        101     2.80        3.24   \n",
       "3     1    14.37   1.95  2.50        16.8        113     3.85        3.49   \n",
       "4     1    13.24   2.59  2.87        21.0        118     2.80        2.69   \n",
       "\n",
       "   Nonflavanoids  Proanthocyanins  Color   Hue  Dilution  Proline  \n",
       "0           0.28             2.29   5.64  1.04      3.92     1065  \n",
       "1           0.26             1.28   4.38  1.05      3.40     1050  \n",
       "2           0.30             2.81   5.68  1.03      3.17     1185  \n",
       "3           0.24             2.18   7.80  0.86      3.45     1480  \n",
       "4           0.39             1.82   4.32  1.04      2.93      735  "
      ]
     },
     "execution_count": 2,
     "metadata": {},
     "output_type": "execute_result"
    }
   ],
   "source": [
    "dataset = pd.read_csv('wine.csv')\n",
    "dataset.head()"
   ]
  },
  {
   "cell_type": "code",
   "execution_count": 3,
   "metadata": {
    "hidden": true
   },
   "outputs": [
    {
     "data": {
      "text/plain": [
       "Index(['Type', 'Alcohol', 'Malic', 'Ash', 'Alcalinity', 'Magnesium', 'Phenols',\n",
       "       'Flavanoids', 'Nonflavanoids', 'Proanthocyanins', 'Color', 'Hue',\n",
       "       'Dilution', 'Proline'],\n",
       "      dtype='object')"
      ]
     },
     "execution_count": 3,
     "metadata": {},
     "output_type": "execute_result"
    }
   ],
   "source": [
    "dataset.keys()"
   ]
  },
  {
   "cell_type": "markdown",
   "metadata": {
    "hidden": true
   },
   "source": [
    "### Understanding wine fetures"
   ]
  },
  {
   "cell_type": "markdown",
   "metadata": {
    "hidden": true
   },
   "source": [
    "1. Type : Type of wine\n",
    "\n",
    "\n",
    "2. Alchohol :\n",
    "Alchohol % in wine (Wine is an alcoholic drink typically made from fermented grape juice.)\n",
    "\n",
    "\n",
    "3. <p align=\"justify\"> Malic : Type of acid. Malic acid is one of two major naturally occurring acids in wine grapes (and inother fruit). This acid presents itself as a pleasant, refreshing juicy taste, similar to biting into an apple. Malic acid is usually left in a wine to make it refreshing and tart. However, when there is too much malic acid, it is converted to lactic acid through malolactic fermentation, so that the wine will be smooth, full-bodied and complex.</p>\n",
    "\n",
    "\n",
    "4. Ash : \n",
    "    * On the average about 2.5 g/L of ash are found in wine.\n",
    "    * Ash being defined as the inorganic matter that remains after evaporation and incineration.\n",
    "    * Cations - most of the ash falls into this class and includes potassium, sodium, calcium, magnesium, iron, copper, lead, arsenic, etc.\n",
    "    \n",
    "    (Note: Cation meaning: a positively charged ion, i.e. one that would be attracted to the cathode in electrolysis.)\n",
    "    \n",
    "    \n",
    "5. Alcalinity : Alkalinity of ash measures the basicity (alkalinity) of the ash obtained from a sample. This is accomplished by adding acid to the ash until the solution is neutralized. Basically Wine acidity is considered. Not found much information on Alcanity of Wine..Sorry!!\n",
    "\n",
    "\n",
    "6. Magnesium (mg/litre) :\n",
    "    * Magnesium is one of the trace element in wine. \n",
    "    * Generally, elevation of magnesium resulted in a well- balanced wine with respect to flavour. Maintenance of high magnesiumcalcium levels will, therefore, not only act as a stimulus to ethanolic fermentation, but may also result in a more palatable wine. \n",
    "    \n",
    "    \n",
    "7. Phenols (mg/litre) : (Related to color & taste)\n",
    "    * Phenols are responsible for the red color in red wine. It is an organic compound released by plants and animals as a part of their defense mechanisms with a central cyclic benzene ring and varying number of hydroxyl groups as substituents. So, the more stressed the vines are, the more phenols they will produced. Phenols not only affect the color in red wines, but also act as preservatives and affect the taste of wine. Phenols used in winemaking are subdivided into two different groups: non-flavanoids and flavanoids.\n",
    "    \n",
    "    \n",
    "8. Flavonoids : Flavionoids include the anthocyanins and tannins which contribute to the color and mouthfeel of the wine.\n",
    "    * Wine flavonoids develop from the seeds and skins of the grapes themselves. They are the largest type of antioxidant found in red wines and are the clear MVP behind their range of health benefits. The healthiest red wines have high amounts of the antioxidant flavonoid resveratrol. (fyi.)\n",
    "    \n",
    "    \n",
    "9. Nonflavanoids : \n",
    "    * Nonflavanoids are the primary contributor to the color white wine. Compared to color in red wine, the chemical nature of color in white wine is not very well understood. The majority of the phenols in white wine are nonflavanoid hydroxycinamates. These include caftaric acid, coumaric acid and ferulic acid.\n",
    "    \n",
    "    \n",
    "10. Proanthocyanins : Proanthocyanidins are the principal polyphenols in red wine that are under research to assess risk of coronary heart disease and lower overall mortality. With tannins, they also influence the aroma, flavor, mouth-feel and astringency of red wines.\n",
    "\n",
    "\n",
    "11. Color : Wine color difference from standard set. It is calculated by color difference equation.\n",
    "    (https://sensing.konicaminolta.us/us/blog/identifying-color-differences-using-l-a-b-or-l-c-h-coordinates/)\n",
    "    \n",
    "    \n",
    "12. Hue : Color shade. a simplistic measure of the appearance of the color – a ratio of the absorbance in the violet to the absorbance in the green. Wine color hue = A420/ A520. CIE L*a*b* is one of the most widely used international scales for color\n",
    "\n",
    "\n",
    "13. Dilution : Dilution Factor. The dilution increases the volume of wine \n",
    "\n",
    "\n",
    "14. Proline is typically the most abundant amino acid present in grape juice and wine. The amount present is influenced by viticultural and winemaking factors and can be of diagnostic importance."
   ]
  },
  {
   "cell_type": "markdown",
   "metadata": {
    "heading_collapsed": true
   },
   "source": [
    "# Step 3: Data preprocessiing "
   ]
  },
  {
   "cell_type": "code",
   "execution_count": 4,
   "metadata": {
    "hidden": true
   },
   "outputs": [],
   "source": [
    "# importing dataset\n",
    "\n",
    "dataset = pd.read_csv('wine.csv')"
   ]
  },
  {
   "cell_type": "code",
   "execution_count": 5,
   "metadata": {
    "hidden": true
   },
   "outputs": [
    {
     "data": {
      "text/html": [
       "<div>\n",
       "<style scoped>\n",
       "    .dataframe tbody tr th:only-of-type {\n",
       "        vertical-align: middle;\n",
       "    }\n",
       "\n",
       "    .dataframe tbody tr th {\n",
       "        vertical-align: top;\n",
       "    }\n",
       "\n",
       "    .dataframe thead th {\n",
       "        text-align: right;\n",
       "    }\n",
       "</style>\n",
       "<table border=\"1\" class=\"dataframe\">\n",
       "  <thead>\n",
       "    <tr style=\"text-align: right;\">\n",
       "      <th></th>\n",
       "      <th>Type</th>\n",
       "      <th>Alcohol</th>\n",
       "      <th>Malic</th>\n",
       "      <th>Ash</th>\n",
       "      <th>Alcalinity</th>\n",
       "      <th>Magnesium</th>\n",
       "      <th>Phenols</th>\n",
       "      <th>Flavanoids</th>\n",
       "      <th>Nonflavanoids</th>\n",
       "      <th>Proanthocyanins</th>\n",
       "      <th>Color</th>\n",
       "      <th>Hue</th>\n",
       "      <th>Dilution</th>\n",
       "      <th>Proline</th>\n",
       "    </tr>\n",
       "  </thead>\n",
       "  <tbody>\n",
       "    <tr>\n",
       "      <th>0</th>\n",
       "      <td>1</td>\n",
       "      <td>14.23</td>\n",
       "      <td>1.71</td>\n",
       "      <td>2.43</td>\n",
       "      <td>15.6</td>\n",
       "      <td>127</td>\n",
       "      <td>2.80</td>\n",
       "      <td>3.06</td>\n",
       "      <td>0.28</td>\n",
       "      <td>2.29</td>\n",
       "      <td>5.64</td>\n",
       "      <td>1.04</td>\n",
       "      <td>3.92</td>\n",
       "      <td>1065</td>\n",
       "    </tr>\n",
       "    <tr>\n",
       "      <th>1</th>\n",
       "      <td>1</td>\n",
       "      <td>13.20</td>\n",
       "      <td>1.78</td>\n",
       "      <td>2.14</td>\n",
       "      <td>11.2</td>\n",
       "      <td>100</td>\n",
       "      <td>2.65</td>\n",
       "      <td>2.76</td>\n",
       "      <td>0.26</td>\n",
       "      <td>1.28</td>\n",
       "      <td>4.38</td>\n",
       "      <td>1.05</td>\n",
       "      <td>3.40</td>\n",
       "      <td>1050</td>\n",
       "    </tr>\n",
       "    <tr>\n",
       "      <th>2</th>\n",
       "      <td>1</td>\n",
       "      <td>13.16</td>\n",
       "      <td>2.36</td>\n",
       "      <td>2.67</td>\n",
       "      <td>18.6</td>\n",
       "      <td>101</td>\n",
       "      <td>2.80</td>\n",
       "      <td>3.24</td>\n",
       "      <td>0.30</td>\n",
       "      <td>2.81</td>\n",
       "      <td>5.68</td>\n",
       "      <td>1.03</td>\n",
       "      <td>3.17</td>\n",
       "      <td>1185</td>\n",
       "    </tr>\n",
       "    <tr>\n",
       "      <th>3</th>\n",
       "      <td>1</td>\n",
       "      <td>14.37</td>\n",
       "      <td>1.95</td>\n",
       "      <td>2.50</td>\n",
       "      <td>16.8</td>\n",
       "      <td>113</td>\n",
       "      <td>3.85</td>\n",
       "      <td>3.49</td>\n",
       "      <td>0.24</td>\n",
       "      <td>2.18</td>\n",
       "      <td>7.80</td>\n",
       "      <td>0.86</td>\n",
       "      <td>3.45</td>\n",
       "      <td>1480</td>\n",
       "    </tr>\n",
       "    <tr>\n",
       "      <th>4</th>\n",
       "      <td>1</td>\n",
       "      <td>13.24</td>\n",
       "      <td>2.59</td>\n",
       "      <td>2.87</td>\n",
       "      <td>21.0</td>\n",
       "      <td>118</td>\n",
       "      <td>2.80</td>\n",
       "      <td>2.69</td>\n",
       "      <td>0.39</td>\n",
       "      <td>1.82</td>\n",
       "      <td>4.32</td>\n",
       "      <td>1.04</td>\n",
       "      <td>2.93</td>\n",
       "      <td>735</td>\n",
       "    </tr>\n",
       "  </tbody>\n",
       "</table>\n",
       "</div>"
      ],
      "text/plain": [
       "   Type  Alcohol  Malic   Ash  Alcalinity  Magnesium  Phenols  Flavanoids  \\\n",
       "0     1    14.23   1.71  2.43        15.6        127     2.80        3.06   \n",
       "1     1    13.20   1.78  2.14        11.2        100     2.65        2.76   \n",
       "2     1    13.16   2.36  2.67        18.6        101     2.80        3.24   \n",
       "3     1    14.37   1.95  2.50        16.8        113     3.85        3.49   \n",
       "4     1    13.24   2.59  2.87        21.0        118     2.80        2.69   \n",
       "\n",
       "   Nonflavanoids  Proanthocyanins  Color   Hue  Dilution  Proline  \n",
       "0           0.28             2.29   5.64  1.04      3.92     1065  \n",
       "1           0.26             1.28   4.38  1.05      3.40     1050  \n",
       "2           0.30             2.81   5.68  1.03      3.17     1185  \n",
       "3           0.24             2.18   7.80  0.86      3.45     1480  \n",
       "4           0.39             1.82   4.32  1.04      2.93      735  "
      ]
     },
     "execution_count": 5,
     "metadata": {},
     "output_type": "execute_result"
    }
   ],
   "source": [
    "# first 5 rows of dataset\n",
    "\n",
    "dataset.head()"
   ]
  },
  {
   "cell_type": "code",
   "execution_count": 6,
   "metadata": {
    "hidden": true
   },
   "outputs": [
    {
     "data": {
      "text/plain": [
       "(178, 14)"
      ]
     },
     "execution_count": 6,
     "metadata": {},
     "output_type": "execute_result"
    }
   ],
   "source": [
    "# checking shape of dataset. i.e no. of rows and columns\n",
    "\n",
    "dataset.shape"
   ]
  },
  {
   "cell_type": "code",
   "execution_count": 7,
   "metadata": {
    "hidden": true
   },
   "outputs": [
    {
     "name": "stdout",
     "output_type": "stream",
     "text": [
      "14\n"
     ]
    },
    {
     "data": {
      "text/plain": [
       "Index(['Type', 'Alcohol', 'Malic', 'Ash', 'Alcalinity', 'Magnesium', 'Phenols',\n",
       "       'Flavanoids', 'Nonflavanoids', 'Proanthocyanins', 'Color', 'Hue',\n",
       "       'Dilution', 'Proline'],\n",
       "      dtype='object')"
      ]
     },
     "execution_count": 7,
     "metadata": {},
     "output_type": "execute_result"
    }
   ],
   "source": [
    "# Checking dataset column names & numbers.\n",
    "\n",
    "print(len(dataset.keys()))\n",
    "dataset.keys()"
   ]
  },
  {
   "cell_type": "code",
   "execution_count": 8,
   "metadata": {
    "hidden": true
   },
   "outputs": [
    {
     "name": "stdout",
     "output_type": "stream",
     "text": [
      "<class 'pandas.core.frame.DataFrame'>\n",
      "RangeIndex: 178 entries, 0 to 177\n",
      "Data columns (total 14 columns):\n",
      " #   Column           Non-Null Count  Dtype  \n",
      "---  ------           --------------  -----  \n",
      " 0   Type             178 non-null    int64  \n",
      " 1   Alcohol          178 non-null    float64\n",
      " 2   Malic            178 non-null    float64\n",
      " 3   Ash              178 non-null    float64\n",
      " 4   Alcalinity       178 non-null    float64\n",
      " 5   Magnesium        178 non-null    int64  \n",
      " 6   Phenols          178 non-null    float64\n",
      " 7   Flavanoids       178 non-null    float64\n",
      " 8   Nonflavanoids    178 non-null    float64\n",
      " 9   Proanthocyanins  178 non-null    float64\n",
      " 10  Color            178 non-null    float64\n",
      " 11  Hue              178 non-null    float64\n",
      " 12  Dilution         178 non-null    float64\n",
      " 13  Proline          178 non-null    int64  \n",
      "dtypes: float64(11), int64(3)\n",
      "memory usage: 19.6 KB\n"
     ]
    }
   ],
   "source": [
    "dataset.info()"
   ]
  },
  {
   "cell_type": "code",
   "execution_count": 9,
   "metadata": {
    "hidden": true
   },
   "outputs": [
    {
     "data": {
      "text/plain": [
       "Type               0\n",
       "Alcohol            0\n",
       "Malic              0\n",
       "Ash                0\n",
       "Alcalinity         0\n",
       "Magnesium          0\n",
       "Phenols            0\n",
       "Flavanoids         0\n",
       "Nonflavanoids      0\n",
       "Proanthocyanins    0\n",
       "Color              0\n",
       "Hue                0\n",
       "Dilution           0\n",
       "Proline            0\n",
       "dtype: int64"
      ]
     },
     "execution_count": 9,
     "metadata": {},
     "output_type": "execute_result"
    }
   ],
   "source": [
    "# checking for null values..\n",
    "\n",
    "dataset.isna().sum()"
   ]
  },
  {
   "cell_type": "code",
   "execution_count": 10,
   "metadata": {
    "hidden": true
   },
   "outputs": [
    {
     "data": {
      "text/plain": [
       "array([1, 2, 3], dtype=int64)"
      ]
     },
     "execution_count": 10,
     "metadata": {},
     "output_type": "execute_result"
    }
   ],
   "source": [
    "# checking unique values form dependent variable 'Type' column\n",
    "\n",
    "dataset.Type.unique()"
   ]
  },
  {
   "cell_type": "markdown",
   "metadata": {},
   "source": [
    "# Step 4:  Exploratory Data Analysis"
   ]
  },
  {
   "cell_type": "code",
   "execution_count": 11,
   "metadata": {},
   "outputs": [
    {
     "data": {
      "text/html": [
       "<div>\n",
       "<style scoped>\n",
       "    .dataframe tbody tr th:only-of-type {\n",
       "        vertical-align: middle;\n",
       "    }\n",
       "\n",
       "    .dataframe tbody tr th {\n",
       "        vertical-align: top;\n",
       "    }\n",
       "\n",
       "    .dataframe thead th {\n",
       "        text-align: right;\n",
       "    }\n",
       "</style>\n",
       "<table border=\"1\" class=\"dataframe\">\n",
       "  <thead>\n",
       "    <tr style=\"text-align: right;\">\n",
       "      <th></th>\n",
       "      <th>count</th>\n",
       "      <th>mean</th>\n",
       "      <th>std</th>\n",
       "      <th>min</th>\n",
       "      <th>25%</th>\n",
       "      <th>50%</th>\n",
       "      <th>75%</th>\n",
       "      <th>max</th>\n",
       "    </tr>\n",
       "  </thead>\n",
       "  <tbody>\n",
       "    <tr>\n",
       "      <th>Type</th>\n",
       "      <td>178.0</td>\n",
       "      <td>1.938202</td>\n",
       "      <td>0.775035</td>\n",
       "      <td>1.00</td>\n",
       "      <td>1.0000</td>\n",
       "      <td>2.000</td>\n",
       "      <td>3.0000</td>\n",
       "      <td>3.00</td>\n",
       "    </tr>\n",
       "    <tr>\n",
       "      <th>Alcohol</th>\n",
       "      <td>178.0</td>\n",
       "      <td>13.000618</td>\n",
       "      <td>0.811827</td>\n",
       "      <td>11.03</td>\n",
       "      <td>12.3625</td>\n",
       "      <td>13.050</td>\n",
       "      <td>13.6775</td>\n",
       "      <td>14.83</td>\n",
       "    </tr>\n",
       "    <tr>\n",
       "      <th>Malic</th>\n",
       "      <td>178.0</td>\n",
       "      <td>2.336348</td>\n",
       "      <td>1.117146</td>\n",
       "      <td>0.74</td>\n",
       "      <td>1.6025</td>\n",
       "      <td>1.865</td>\n",
       "      <td>3.0825</td>\n",
       "      <td>5.80</td>\n",
       "    </tr>\n",
       "    <tr>\n",
       "      <th>Ash</th>\n",
       "      <td>178.0</td>\n",
       "      <td>2.366517</td>\n",
       "      <td>0.274344</td>\n",
       "      <td>1.36</td>\n",
       "      <td>2.2100</td>\n",
       "      <td>2.360</td>\n",
       "      <td>2.5575</td>\n",
       "      <td>3.23</td>\n",
       "    </tr>\n",
       "    <tr>\n",
       "      <th>Alcalinity</th>\n",
       "      <td>178.0</td>\n",
       "      <td>19.494944</td>\n",
       "      <td>3.339564</td>\n",
       "      <td>10.60</td>\n",
       "      <td>17.2000</td>\n",
       "      <td>19.500</td>\n",
       "      <td>21.5000</td>\n",
       "      <td>30.00</td>\n",
       "    </tr>\n",
       "    <tr>\n",
       "      <th>Magnesium</th>\n",
       "      <td>178.0</td>\n",
       "      <td>99.741573</td>\n",
       "      <td>14.282484</td>\n",
       "      <td>70.00</td>\n",
       "      <td>88.0000</td>\n",
       "      <td>98.000</td>\n",
       "      <td>107.0000</td>\n",
       "      <td>162.00</td>\n",
       "    </tr>\n",
       "    <tr>\n",
       "      <th>Phenols</th>\n",
       "      <td>178.0</td>\n",
       "      <td>2.295112</td>\n",
       "      <td>0.625851</td>\n",
       "      <td>0.98</td>\n",
       "      <td>1.7425</td>\n",
       "      <td>2.355</td>\n",
       "      <td>2.8000</td>\n",
       "      <td>3.88</td>\n",
       "    </tr>\n",
       "    <tr>\n",
       "      <th>Flavanoids</th>\n",
       "      <td>178.0</td>\n",
       "      <td>2.029270</td>\n",
       "      <td>0.998859</td>\n",
       "      <td>0.34</td>\n",
       "      <td>1.2050</td>\n",
       "      <td>2.135</td>\n",
       "      <td>2.8750</td>\n",
       "      <td>5.08</td>\n",
       "    </tr>\n",
       "    <tr>\n",
       "      <th>Nonflavanoids</th>\n",
       "      <td>178.0</td>\n",
       "      <td>0.361854</td>\n",
       "      <td>0.124453</td>\n",
       "      <td>0.13</td>\n",
       "      <td>0.2700</td>\n",
       "      <td>0.340</td>\n",
       "      <td>0.4375</td>\n",
       "      <td>0.66</td>\n",
       "    </tr>\n",
       "    <tr>\n",
       "      <th>Proanthocyanins</th>\n",
       "      <td>178.0</td>\n",
       "      <td>1.590899</td>\n",
       "      <td>0.572359</td>\n",
       "      <td>0.41</td>\n",
       "      <td>1.2500</td>\n",
       "      <td>1.555</td>\n",
       "      <td>1.9500</td>\n",
       "      <td>3.58</td>\n",
       "    </tr>\n",
       "    <tr>\n",
       "      <th>Color</th>\n",
       "      <td>178.0</td>\n",
       "      <td>5.058090</td>\n",
       "      <td>2.318286</td>\n",
       "      <td>1.28</td>\n",
       "      <td>3.2200</td>\n",
       "      <td>4.690</td>\n",
       "      <td>6.2000</td>\n",
       "      <td>13.00</td>\n",
       "    </tr>\n",
       "    <tr>\n",
       "      <th>Hue</th>\n",
       "      <td>178.0</td>\n",
       "      <td>0.957449</td>\n",
       "      <td>0.228572</td>\n",
       "      <td>0.48</td>\n",
       "      <td>0.7825</td>\n",
       "      <td>0.965</td>\n",
       "      <td>1.1200</td>\n",
       "      <td>1.71</td>\n",
       "    </tr>\n",
       "    <tr>\n",
       "      <th>Dilution</th>\n",
       "      <td>178.0</td>\n",
       "      <td>2.611685</td>\n",
       "      <td>0.709990</td>\n",
       "      <td>1.27</td>\n",
       "      <td>1.9375</td>\n",
       "      <td>2.780</td>\n",
       "      <td>3.1700</td>\n",
       "      <td>4.00</td>\n",
       "    </tr>\n",
       "    <tr>\n",
       "      <th>Proline</th>\n",
       "      <td>178.0</td>\n",
       "      <td>746.893258</td>\n",
       "      <td>314.907474</td>\n",
       "      <td>278.00</td>\n",
       "      <td>500.5000</td>\n",
       "      <td>673.500</td>\n",
       "      <td>985.0000</td>\n",
       "      <td>1680.00</td>\n",
       "    </tr>\n",
       "  </tbody>\n",
       "</table>\n",
       "</div>"
      ],
      "text/plain": [
       "                 count        mean         std     min       25%      50%  \\\n",
       "Type             178.0    1.938202    0.775035    1.00    1.0000    2.000   \n",
       "Alcohol          178.0   13.000618    0.811827   11.03   12.3625   13.050   \n",
       "Malic            178.0    2.336348    1.117146    0.74    1.6025    1.865   \n",
       "Ash              178.0    2.366517    0.274344    1.36    2.2100    2.360   \n",
       "Alcalinity       178.0   19.494944    3.339564   10.60   17.2000   19.500   \n",
       "Magnesium        178.0   99.741573   14.282484   70.00   88.0000   98.000   \n",
       "Phenols          178.0    2.295112    0.625851    0.98    1.7425    2.355   \n",
       "Flavanoids       178.0    2.029270    0.998859    0.34    1.2050    2.135   \n",
       "Nonflavanoids    178.0    0.361854    0.124453    0.13    0.2700    0.340   \n",
       "Proanthocyanins  178.0    1.590899    0.572359    0.41    1.2500    1.555   \n",
       "Color            178.0    5.058090    2.318286    1.28    3.2200    4.690   \n",
       "Hue              178.0    0.957449    0.228572    0.48    0.7825    0.965   \n",
       "Dilution         178.0    2.611685    0.709990    1.27    1.9375    2.780   \n",
       "Proline          178.0  746.893258  314.907474  278.00  500.5000  673.500   \n",
       "\n",
       "                      75%      max  \n",
       "Type               3.0000     3.00  \n",
       "Alcohol           13.6775    14.83  \n",
       "Malic              3.0825     5.80  \n",
       "Ash                2.5575     3.23  \n",
       "Alcalinity        21.5000    30.00  \n",
       "Magnesium        107.0000   162.00  \n",
       "Phenols            2.8000     3.88  \n",
       "Flavanoids         2.8750     5.08  \n",
       "Nonflavanoids      0.4375     0.66  \n",
       "Proanthocyanins    1.9500     3.58  \n",
       "Color              6.2000    13.00  \n",
       "Hue                1.1200     1.71  \n",
       "Dilution           3.1700     4.00  \n",
       "Proline          985.0000  1680.00  "
      ]
     },
     "execution_count": 11,
     "metadata": {},
     "output_type": "execute_result"
    }
   ],
   "source": [
    "# checking numerical data information..\n",
    "\n",
    "dataset.describe().transpose()"
   ]
  },
  {
   "cell_type": "code",
   "execution_count": 12,
   "metadata": {
    "scrolled": true
   },
   "outputs": [
    {
     "data": {
      "image/png": "[encoded data removed]",
      "text/plain": [
       "<Figure size 576x432 with 1 Axes>"
      ]
     },
     "metadata": {
      "needs_background": "light"
     },
     "output_type": "display_data"
    },
    {
     "data": {
      "image/png": "[encoded data removed]",
      "text/plain": [
       "<Figure size 576x432 with 1 Axes>"
      ]
     },
     "metadata": {
      "needs_background": "light"
     },
     "output_type": "display_data"
    },
    {
     "data": {
      "image/png": "[encoded data removed]",
      "text/plain": [
       "<Figure size 576x432 with 1 Axes>"
      ]
     },
     "metadata": {
      "needs_background": "light"
     },
     "output_type": "display_data"
    },
    {
     "data": {
      "image/png": "[encoded data removed]",
      "text/plain": [
       "<Figure size 576x432 with 1 Axes>"
      ]
     },
     "metadata": {
      "needs_background": "light"
     },
     "output_type": "display_data"
    },
    {
     "data": {
      "image/png": "[encoded data removed]",
      "text/plain": [
       "<Figure size 576x432 with 1 Axes>"
      ]
     },
     "metadata": {
      "needs_background": "light"
     },
     "output_type": "display_data"
    },
    {
     "data": {
      "image/png": "[encoded data removed]",
      "text/plain": [
       "<Figure size 576x432 with 1 Axes>"
      ]
     },
     "metadata": {
      "needs_background": "light"
     },
     "output_type": "display_data"
    },
    {
     "data": {
      "image/png": "[encoded data removed]",
      "text/plain": [
       "<Figure size 576x432 with 1 Axes>"
      ]
     },
     "metadata": {
      "needs_background": "light"
     },
     "output_type": "display_data"
    },
    {
     "data": {
      "image/png": "[encoded data removed]",
      "text/plain": [
       "<Figure size 576x432 with 1 Axes>"
      ]
     },
     "metadata": {
      "needs_background": "light"
     },
     "output_type": "display_data"
    },
    {
     "data": {
      "image/png": "[encoded data removed]",
      "text/plain": [
       "<Figure size 576x432 with 1 Axes>"
      ]
     },
     "metadata": {
      "needs_background": "light"
     },
     "output_type": "display_data"
    },
    {
     "data": {
      "image/png": "[encoded data removed]",
      "text/plain": [
       "<Figure size 576x432 with 1 Axes>"
      ]
     },
     "metadata": {
      "needs_background": "light"
     },
     "output_type": "display_data"
    },
    {
     "data": {
      "image/png": "[encoded data removed]",
      "text/plain": [
       "<Figure size 576x432 with 1 Axes>"
      ]
     },
     "metadata": {
      "needs_background": "light"
     },
     "output_type": "display_data"
    },
    {
     "data": {
      "image/png": "[encoded data removed]",
      "text/plain": [
       "<Figure size 576x432 with 1 Axes>"
      ]
     },
     "metadata": {
      "needs_background": "light"
     },
     "output_type": "display_data"
    },
    {
     "data": {
      "image/png": "[encoded data removed]",
      "text/plain": [
       "<Figure size 576x432 with 1 Axes>"
      ]
     },
     "metadata": {
      "needs_background": "light"
     },
     "output_type": "display_data"
    },
    {
     "data": {
      "image/png": "[encoded data removed]",
      "text/plain": [
       "<Figure size 576x432 with 1 Axes>"
      ]
     },
     "metadata": {
      "needs_background": "light"
     },
     "output_type": "display_data"
    }
   ],
   "source": [
    "# plotting boxplots..\n",
    "\n",
    "for i in dataset.keys():\n",
    "    boxplot = dataset.boxplot(by ='Type', column=[i], fontsize=12, figsize=(8,6))"
   ]
  },
  {
   "cell_type": "code",
   "execution_count": 13,
   "metadata": {
    "scrolled": true
   },
   "outputs": [
    {
     "data": {
      "text/plain": [
       "<Figure size 432x288 with 0 Axes>"
      ]
     },
     "metadata": {},
     "output_type": "display_data"
    },
    {
     "data": {
      "image/png": "[encoded data removed]",
      "text/plain": [
       "<Figure size 720x360 with 1 Axes>"
      ]
     },
     "metadata": {},
     "output_type": "display_data"
    },
    {
     "data": {
      "text/plain": [
       "<Figure size 432x288 with 0 Axes>"
      ]
     },
     "metadata": {},
     "output_type": "display_data"
    },
    {
     "data": {
      "image/png": "[encoded data removed]",
      "text/plain": [
       "<Figure size 720x360 with 1 Axes>"
      ]
     },
     "metadata": {},
     "output_type": "display_data"
    },
    {
     "data": {
      "text/plain": [
       "<Figure size 432x288 with 0 Axes>"
      ]
     },
     "metadata": {},
     "output_type": "display_data"
    },
    {
     "data": {
      "image/png": "[encoded data removed]",
      "text/plain": [
       "<Figure size 720x360 with 1 Axes>"
      ]
     },
     "metadata": {},
     "output_type": "display_data"
    },
    {
     "data": {
      "text/plain": [
       "<Figure size 432x288 with 0 Axes>"
      ]
     },
     "metadata": {},
     "output_type": "display_data"
    },
    {
     "data": {
      "image/png": "[encoded data removed]",
      "text/plain": [
       "<Figure size 720x360 with 1 Axes>"
      ]
     },
     "metadata": {},
     "output_type": "display_data"
    },
    {
     "data": {
      "text/plain": [
       "<Figure size 432x288 with 0 Axes>"
      ]
     },
     "metadata": {},
     "output_type": "display_data"
    },
    {
     "data": {
      "image/png": "[encoded data removed]",
      "text/plain": [
       "<Figure size 720x360 with 1 Axes>"
      ]
     },
     "metadata": {},
     "output_type": "display_data"
    },
    {
     "data": {
      "text/plain": [
       "<Figure size 432x288 with 0 Axes>"
      ]
     },
     "metadata": {},
     "output_type": "display_data"
    },
    {
     "data": {
      "image/png": "[encoded data removed]",
      "text/plain": [
       "<Figure size 720x360 with 1 Axes>"
      ]
     },
     "metadata": {},
     "output_type": "display_data"
    },
    {
     "data": {
      "text/plain": [
       "<Figure size 432x288 with 0 Axes>"
      ]
     },
     "metadata": {},
     "output_type": "display_data"
    },
    {
     "data": {
      "image/png": "[encoded data removed]",
      "text/plain": [
       "<Figure size 720x360 with 1 Axes>"
      ]
     },
     "metadata": {},
     "output_type": "display_data"
    },
    {
     "data": {
      "text/plain": [
       "<Figure size 432x288 with 0 Axes>"
      ]
     },
     "metadata": {},
     "output_type": "display_data"
    },
    {
     "data": {
      "image/png": "[encoded data removed]",
      "text/plain": [
       "<Figure size 720x360 with 1 Axes>"
      ]
     },
     "metadata": {},
     "output_type": "display_data"
    },
    {
     "data": {
      "text/plain": [
       "<Figure size 432x288 with 0 Axes>"
      ]
     },
     "metadata": {},
     "output_type": "display_data"
    },
    {
     "data": {
      "image/png": "[encoded data removed]",
      "text/plain": [
       "<Figure size 720x360 with 1 Axes>"
      ]
     },
     "metadata": {},
     "output_type": "display_data"
    },
    {
     "data": {
      "text/plain": [
       "<Figure size 432x288 with 0 Axes>"
      ]
     },
     "metadata": {},
     "output_type": "display_data"
    },
    {
     "data": {
      "image/png": "[encoded data removed]",
      "text/plain": [
       "<Figure size 720x360 with 1 Axes>"
      ]
     },
     "metadata": {},
     "output_type": "display_data"
    },
    {
     "data": {
      "text/plain": [
       "<Figure size 432x288 with 0 Axes>"
      ]
     },
     "metadata": {},
     "output_type": "display_data"
    },
    {
     "data": {
      "image/png": "[encoded data removed]",
      "text/plain": [
       "<Figure size 720x360 with 1 Axes>"
      ]
     },
     "metadata": {},
     "output_type": "display_data"
    },
    {
     "data": {
      "text/plain": [
       "<Figure size 432x288 with 0 Axes>"
      ]
     },
     "metadata": {},
     "output_type": "display_data"
    },
    {
     "data": {
      "image/png": "[encoded data removed]",
      "text/plain": [
       "<Figure size 720x360 with 1 Axes>"
      ]
     },
     "metadata": {},
     "output_type": "display_data"
    },
    {
     "data": {
      "text/plain": [
       "<Figure size 432x288 with 0 Axes>"
      ]
     },
     "metadata": {},
     "output_type": "display_data"
    },
    {
     "data": {
      "image/png": "[encoded data removed]",
      "text/plain": [
       "<Figure size 720x360 with 1 Axes>"
      ]
     },
     "metadata": {},
     "output_type": "display_data"
    },
    {
     "data": {
      "text/plain": [
       "<Figure size 432x288 with 0 Axes>"
      ]
     },
     "metadata": {},
     "output_type": "display_data"
    },
    {
     "data": {
      "image/png": "[encoded data removed]",
      "text/plain": [
       "<Figure size 720x360 with 1 Axes>"
      ]
     },
     "metadata": {},
     "output_type": "display_data"
    }
   ],
   "source": [
    "\n",
    "for i, col in enumerate(dataset.columns):\n",
    "    sns.set_style('whitegrid')\n",
    "    plt.figure(i)\n",
    "    fig, ax =plt.subplots(figsize=(10,5))\n",
    "    sns.set(font_scale = 1.2)\n",
    "    sns.kdeplot(dataset[col], shade=True)\n",
    "    plt.ylabel(col)\n",
    "    plt.show()\n",
    "    "
   ]
  },
  {
   "cell_type": "markdown",
   "metadata": {},
   "source": [
    "***"
   ]
  },
  {
   "cell_type": "markdown",
   "metadata": {},
   "source": [
    "# Step 4 : Dataset separation, Data Satndardization"
   ]
  },
  {
   "cell_type": "code",
   "execution_count": 14,
   "metadata": {},
   "outputs": [
    {
     "data": {
      "text/html": [
       "<div>\n",
       "<style scoped>\n",
       "    .dataframe tbody tr th:only-of-type {\n",
       "        vertical-align: middle;\n",
       "    }\n",
       "\n",
       "    .dataframe tbody tr th {\n",
       "        vertical-align: top;\n",
       "    }\n",
       "\n",
       "    .dataframe thead th {\n",
       "        text-align: right;\n",
       "    }\n",
       "</style>\n",
       "<table border=\"1\" class=\"dataframe\">\n",
       "  <thead>\n",
       "    <tr style=\"text-align: right;\">\n",
       "      <th></th>\n",
       "      <th>Alcohol</th>\n",
       "      <th>Malic</th>\n",
       "      <th>Ash</th>\n",
       "      <th>Alcalinity</th>\n",
       "      <th>Magnesium</th>\n",
       "      <th>Phenols</th>\n",
       "      <th>Flavanoids</th>\n",
       "      <th>Nonflavanoids</th>\n",
       "      <th>Proanthocyanins</th>\n",
       "      <th>Color</th>\n",
       "      <th>Hue</th>\n",
       "      <th>Dilution</th>\n",
       "      <th>Proline</th>\n",
       "    </tr>\n",
       "  </thead>\n",
       "  <tbody>\n",
       "    <tr>\n",
       "      <th>0</th>\n",
       "      <td>14.23</td>\n",
       "      <td>1.71</td>\n",
       "      <td>2.43</td>\n",
       "      <td>15.6</td>\n",
       "      <td>127</td>\n",
       "      <td>2.80</td>\n",
       "      <td>3.06</td>\n",
       "      <td>0.28</td>\n",
       "      <td>2.29</td>\n",
       "      <td>5.64</td>\n",
       "      <td>1.04</td>\n",
       "      <td>3.92</td>\n",
       "      <td>1065</td>\n",
       "    </tr>\n",
       "    <tr>\n",
       "      <th>1</th>\n",
       "      <td>13.20</td>\n",
       "      <td>1.78</td>\n",
       "      <td>2.14</td>\n",
       "      <td>11.2</td>\n",
       "      <td>100</td>\n",
       "      <td>2.65</td>\n",
       "      <td>2.76</td>\n",
       "      <td>0.26</td>\n",
       "      <td>1.28</td>\n",
       "      <td>4.38</td>\n",
       "      <td>1.05</td>\n",
       "      <td>3.40</td>\n",
       "      <td>1050</td>\n",
       "    </tr>\n",
       "    <tr>\n",
       "      <th>2</th>\n",
       "      <td>13.16</td>\n",
       "      <td>2.36</td>\n",
       "      <td>2.67</td>\n",
       "      <td>18.6</td>\n",
       "      <td>101</td>\n",
       "      <td>2.80</td>\n",
       "      <td>3.24</td>\n",
       "      <td>0.30</td>\n",
       "      <td>2.81</td>\n",
       "      <td>5.68</td>\n",
       "      <td>1.03</td>\n",
       "      <td>3.17</td>\n",
       "      <td>1185</td>\n",
       "    </tr>\n",
       "    <tr>\n",
       "      <th>3</th>\n",
       "      <td>14.37</td>\n",
       "      <td>1.95</td>\n",
       "      <td>2.50</td>\n",
       "      <td>16.8</td>\n",
       "      <td>113</td>\n",
       "      <td>3.85</td>\n",
       "      <td>3.49</td>\n",
       "      <td>0.24</td>\n",
       "      <td>2.18</td>\n",
       "      <td>7.80</td>\n",
       "      <td>0.86</td>\n",
       "      <td>3.45</td>\n",
       "      <td>1480</td>\n",
       "    </tr>\n",
       "    <tr>\n",
       "      <th>4</th>\n",
       "      <td>13.24</td>\n",
       "      <td>2.59</td>\n",
       "      <td>2.87</td>\n",
       "      <td>21.0</td>\n",
       "      <td>118</td>\n",
       "      <td>2.80</td>\n",
       "      <td>2.69</td>\n",
       "      <td>0.39</td>\n",
       "      <td>1.82</td>\n",
       "      <td>4.32</td>\n",
       "      <td>1.04</td>\n",
       "      <td>2.93</td>\n",
       "      <td>735</td>\n",
       "    </tr>\n",
       "  </tbody>\n",
       "</table>\n",
       "</div>"
      ],
      "text/plain": [
       "   Alcohol  Malic   Ash  Alcalinity  Magnesium  Phenols  Flavanoids  \\\n",
       "0    14.23   1.71  2.43        15.6        127     2.80        3.06   \n",
       "1    13.20   1.78  2.14        11.2        100     2.65        2.76   \n",
       "2    13.16   2.36  2.67        18.6        101     2.80        3.24   \n",
       "3    14.37   1.95  2.50        16.8        113     3.85        3.49   \n",
       "4    13.24   2.59  2.87        21.0        118     2.80        2.69   \n",
       "\n",
       "   Nonflavanoids  Proanthocyanins  Color   Hue  Dilution  Proline  \n",
       "0           0.28             2.29   5.64  1.04      3.92     1065  \n",
       "1           0.26             1.28   4.38  1.05      3.40     1050  \n",
       "2           0.30             2.81   5.68  1.03      3.17     1185  \n",
       "3           0.24             2.18   7.80  0.86      3.45     1480  \n",
       "4           0.39             1.82   4.32  1.04      2.93      735  "
      ]
     },
     "execution_count": 14,
     "metadata": {},
     "output_type": "execute_result"
    }
   ],
   "source": [
    "# Indepedent Variable dataset.\n",
    "\n",
    "x = dataset.drop(['Type'], axis=1)\n",
    "x.head()"
   ]
  },
  {
   "cell_type": "code",
   "execution_count": 55,
   "metadata": {},
   "outputs": [],
   "source": [
    "# Dependent variable.\n",
    "\n",
    "y = pd.DataFrame(dataset['Type'],columns=['Type'])"
   ]
  },
  {
   "cell_type": "code",
   "execution_count": 56,
   "metadata": {},
   "outputs": [
    {
     "data": {
      "text/html": [
       "<div>\n",
       "<style scoped>\n",
       "    .dataframe tbody tr th:only-of-type {\n",
       "        vertical-align: middle;\n",
       "    }\n",
       "\n",
       "    .dataframe tbody tr th {\n",
       "        vertical-align: top;\n",
       "    }\n",
       "\n",
       "    .dataframe thead th {\n",
       "        text-align: right;\n",
       "    }\n",
       "</style>\n",
       "<table border=\"1\" class=\"dataframe\">\n",
       "  <thead>\n",
       "    <tr style=\"text-align: right;\">\n",
       "      <th></th>\n",
       "      <th>Type</th>\n",
       "    </tr>\n",
       "  </thead>\n",
       "  <tbody>\n",
       "    <tr>\n",
       "      <th>0</th>\n",
       "      <td>1</td>\n",
       "    </tr>\n",
       "    <tr>\n",
       "      <th>1</th>\n",
       "      <td>1</td>\n",
       "    </tr>\n",
       "    <tr>\n",
       "      <th>2</th>\n",
       "      <td>1</td>\n",
       "    </tr>\n",
       "    <tr>\n",
       "      <th>3</th>\n",
       "      <td>1</td>\n",
       "    </tr>\n",
       "    <tr>\n",
       "      <th>4</th>\n",
       "      <td>1</td>\n",
       "    </tr>\n",
       "  </tbody>\n",
       "</table>\n",
       "</div>"
      ],
      "text/plain": [
       "   Type\n",
       "0     1\n",
       "1     1\n",
       "2     1\n",
       "3     1\n",
       "4     1"
      ]
     },
     "execution_count": 56,
     "metadata": {},
     "output_type": "execute_result"
    }
   ],
   "source": [
    "y.head()"
   ]
  },
  {
   "cell_type": "code",
   "execution_count": 17,
   "metadata": {},
   "outputs": [],
   "source": [
    "# Data standardization.\n",
    "\n",
    "from sklearn.preprocessing import StandardScaler\n",
    "std = StandardScaler()\n",
    "x = std.fit_transform(x)"
   ]
  },
  {
   "cell_type": "markdown",
   "metadata": {},
   "source": [
    "# Step 5: Principle Component Analysis."
   ]
  },
  {
   "cell_type": "markdown",
   "metadata": {},
   "source": [
    "* Let's see how much we can reduce the dimensions while still keeping 95% variance. We will apply Principle Component Analysis (PCA) to independent dataset (x). The reason for this is that by keeping a large number of dimensions with PCA, you don’t destroy much of the information, but hopefully will remove some noise/outliers from the data, and make the clustering problem easier for k-means. \n",
    "\n",
    "Note that pca_com will only be used for k-means, t-SNE will still use the original feature X."
   ]
  },
  {
   "cell_type": "code",
   "execution_count": 18,
   "metadata": {},
   "outputs": [
    {
     "data": {
      "text/plain": [
       "(178, 10)"
      ]
     },
     "execution_count": 18,
     "metadata": {},
     "output_type": "execute_result"
    }
   ],
   "source": [
    "from sklearn.decomposition import PCA\n",
    "pca = PCA(random_state=42, n_components=0.95)                  # n_Componets = 0.95 use hyperparameter..which gives PCA contains 95% variance\n",
    "pca_com = pca.fit_transform(x)                                 # we will use pca_com for k means \n",
    "pca_com.shape"
   ]
  },
  {
   "cell_type": "code",
   "execution_count": 19,
   "metadata": {},
   "outputs": [
    {
     "name": "stdout",
     "output_type": "stream",
     "text": [
      "[28.94203422 21.08225141 16.04371561 12.78973645 12.32374195 10.68713954\n",
      "  9.90368818  7.8760733   7.17081793  6.6828618 ]\n"
     ]
    }
   ],
   "source": [
    "print(pca.singular_values_)"
   ]
  },
  {
   "cell_type": "code",
   "execution_count": 20,
   "metadata": {},
   "outputs": [
    {
     "name": "stdout",
     "output_type": "stream",
     "text": [
      "explained_variance_ratio:\n",
      "[36.1988481  19.20749026 11.12363054  7.06903018  6.56329368  4.93582332\n",
      "  4.23867932  2.68074895  2.2221534   1.93001909]\n"
     ]
    }
   ],
   "source": [
    "variance_ratio = pca.explained_variance_ratio_\n",
    "print('explained_variance_ratio:')\n",
    "print((variance_ratio)*100)\n",
    "\n",
    "# This provides informatin that PCA1 has variance 36.19%, PCA2 has 19.20%, PCA3 has 11.12%,....,etc"
   ]
  },
  {
   "cell_type": "code",
   "execution_count": 21,
   "metadata": {},
   "outputs": [
    {
     "data": {
      "text/plain": [
       "array([0.36198848, 0.55406338, 0.66529969, 0.73598999, 0.80162293,\n",
       "       0.85098116, 0.89336795, 0.92017544, 0.94239698, 0.96169717])"
      ]
     },
     "execution_count": 21,
     "metadata": {},
     "output_type": "execute_result"
    }
   ],
   "source": [
    "# Cummulative variance ratio..\n",
    "\n",
    "# this will give an idea of, at how many no. of PCAs, the cummulative addition of variance will give much information..\n",
    "\n",
    "cum_variance = np.cumsum(variance_ratio)\n",
    "cum_variance"
   ]
  },
  {
   "cell_type": "markdown",
   "metadata": {},
   "source": [
    " ### Creating PCA Dataframe.."
   ]
  },
  {
   "cell_type": "code",
   "execution_count": 22,
   "metadata": {},
   "outputs": [
    {
     "data": {
      "text/html": [
       "<div>\n",
       "<style scoped>\n",
       "    .dataframe tbody tr th:only-of-type {\n",
       "        vertical-align: middle;\n",
       "    }\n",
       "\n",
       "    .dataframe tbody tr th {\n",
       "        vertical-align: top;\n",
       "    }\n",
       "\n",
       "    .dataframe thead th {\n",
       "        text-align: right;\n",
       "    }\n",
       "</style>\n",
       "<table border=\"1\" class=\"dataframe\">\n",
       "  <thead>\n",
       "    <tr style=\"text-align: right;\">\n",
       "      <th></th>\n",
       "      <th>PC1</th>\n",
       "      <th>PC2</th>\n",
       "      <th>PC3</th>\n",
       "      <th>PC4</th>\n",
       "      <th>PC5</th>\n",
       "      <th>PC6</th>\n",
       "      <th>PC7</th>\n",
       "      <th>PC8</th>\n",
       "      <th>PC9</th>\n",
       "      <th>PC10</th>\n",
       "      <th>Type</th>\n",
       "    </tr>\n",
       "  </thead>\n",
       "  <tbody>\n",
       "    <tr>\n",
       "      <th>0</th>\n",
       "      <td>3.316751</td>\n",
       "      <td>-1.443463</td>\n",
       "      <td>-0.165739</td>\n",
       "      <td>-0.215631</td>\n",
       "      <td>0.693043</td>\n",
       "      <td>-0.223880</td>\n",
       "      <td>0.596427</td>\n",
       "      <td>0.065139</td>\n",
       "      <td>0.641443</td>\n",
       "      <td>1.020956</td>\n",
       "      <td>1</td>\n",
       "    </tr>\n",
       "    <tr>\n",
       "      <th>1</th>\n",
       "      <td>2.209465</td>\n",
       "      <td>0.333393</td>\n",
       "      <td>-2.026457</td>\n",
       "      <td>-0.291358</td>\n",
       "      <td>-0.257655</td>\n",
       "      <td>-0.927120</td>\n",
       "      <td>0.053776</td>\n",
       "      <td>1.024416</td>\n",
       "      <td>-0.308847</td>\n",
       "      <td>0.159701</td>\n",
       "      <td>1</td>\n",
       "    </tr>\n",
       "    <tr>\n",
       "      <th>2</th>\n",
       "      <td>2.516740</td>\n",
       "      <td>-1.031151</td>\n",
       "      <td>0.982819</td>\n",
       "      <td>0.724902</td>\n",
       "      <td>-0.251033</td>\n",
       "      <td>0.549276</td>\n",
       "      <td>0.424205</td>\n",
       "      <td>-0.344216</td>\n",
       "      <td>-1.177834</td>\n",
       "      <td>0.113361</td>\n",
       "      <td>1</td>\n",
       "    </tr>\n",
       "    <tr>\n",
       "      <th>3</th>\n",
       "      <td>3.757066</td>\n",
       "      <td>-2.756372</td>\n",
       "      <td>-0.176192</td>\n",
       "      <td>0.567983</td>\n",
       "      <td>-0.311842</td>\n",
       "      <td>0.114431</td>\n",
       "      <td>-0.383337</td>\n",
       "      <td>0.643593</td>\n",
       "      <td>0.052544</td>\n",
       "      <td>0.239413</td>\n",
       "      <td>1</td>\n",
       "    </tr>\n",
       "    <tr>\n",
       "      <th>4</th>\n",
       "      <td>1.008908</td>\n",
       "      <td>-0.869831</td>\n",
       "      <td>2.026688</td>\n",
       "      <td>-0.409766</td>\n",
       "      <td>0.298458</td>\n",
       "      <td>-0.406520</td>\n",
       "      <td>0.444074</td>\n",
       "      <td>0.416700</td>\n",
       "      <td>0.326819</td>\n",
       "      <td>-0.078366</td>\n",
       "      <td>1</td>\n",
       "    </tr>\n",
       "    <tr>\n",
       "      <th>...</th>\n",
       "      <td>...</td>\n",
       "      <td>...</td>\n",
       "      <td>...</td>\n",
       "      <td>...</td>\n",
       "      <td>...</td>\n",
       "      <td>...</td>\n",
       "      <td>...</td>\n",
       "      <td>...</td>\n",
       "      <td>...</td>\n",
       "      <td>...</td>\n",
       "      <td>...</td>\n",
       "    </tr>\n",
       "    <tr>\n",
       "      <th>173</th>\n",
       "      <td>-3.370524</td>\n",
       "      <td>-2.216289</td>\n",
       "      <td>-0.342570</td>\n",
       "      <td>1.058527</td>\n",
       "      <td>-0.574164</td>\n",
       "      <td>-1.108788</td>\n",
       "      <td>0.958416</td>\n",
       "      <td>-0.146097</td>\n",
       "      <td>-0.022498</td>\n",
       "      <td>-0.304117</td>\n",
       "      <td>3</td>\n",
       "    </tr>\n",
       "    <tr>\n",
       "      <th>174</th>\n",
       "      <td>-2.601956</td>\n",
       "      <td>-1.757229</td>\n",
       "      <td>0.207581</td>\n",
       "      <td>0.349496</td>\n",
       "      <td>0.255063</td>\n",
       "      <td>-0.026465</td>\n",
       "      <td>0.146894</td>\n",
       "      <td>-0.552427</td>\n",
       "      <td>-0.097969</td>\n",
       "      <td>-0.206061</td>\n",
       "      <td>3</td>\n",
       "    </tr>\n",
       "    <tr>\n",
       "      <th>175</th>\n",
       "      <td>-2.677839</td>\n",
       "      <td>-2.760899</td>\n",
       "      <td>-0.940942</td>\n",
       "      <td>0.312035</td>\n",
       "      <td>1.271355</td>\n",
       "      <td>0.273068</td>\n",
       "      <td>0.679235</td>\n",
       "      <td>0.047024</td>\n",
       "      <td>0.001222</td>\n",
       "      <td>-0.247997</td>\n",
       "      <td>3</td>\n",
       "    </tr>\n",
       "    <tr>\n",
       "      <th>176</th>\n",
       "      <td>-2.387017</td>\n",
       "      <td>-2.297347</td>\n",
       "      <td>-0.550696</td>\n",
       "      <td>-0.688285</td>\n",
       "      <td>0.813955</td>\n",
       "      <td>1.178783</td>\n",
       "      <td>0.633975</td>\n",
       "      <td>0.390829</td>\n",
       "      <td>0.057448</td>\n",
       "      <td>0.491490</td>\n",
       "      <td>3</td>\n",
       "    </tr>\n",
       "    <tr>\n",
       "      <th>177</th>\n",
       "      <td>-3.208758</td>\n",
       "      <td>-2.768920</td>\n",
       "      <td>1.013914</td>\n",
       "      <td>0.596903</td>\n",
       "      <td>-0.895193</td>\n",
       "      <td>0.296092</td>\n",
       "      <td>0.005741</td>\n",
       "      <td>-0.292914</td>\n",
       "      <td>0.741660</td>\n",
       "      <td>-0.117969</td>\n",
       "      <td>3</td>\n",
       "    </tr>\n",
       "  </tbody>\n",
       "</table>\n",
       "<p>178 rows × 11 columns</p>\n",
       "</div>"
      ],
      "text/plain": [
       "          PC1       PC2       PC3       PC4       PC5       PC6       PC7  \\\n",
       "0    3.316751 -1.443463 -0.165739 -0.215631  0.693043 -0.223880  0.596427   \n",
       "1    2.209465  0.333393 -2.026457 -0.291358 -0.257655 -0.927120  0.053776   \n",
       "2    2.516740 -1.031151  0.982819  0.724902 -0.251033  0.549276  0.424205   \n",
       "3    3.757066 -2.756372 -0.176192  0.567983 -0.311842  0.114431 -0.383337   \n",
       "4    1.008908 -0.869831  2.026688 -0.409766  0.298458 -0.406520  0.444074   \n",
       "..        ...       ...       ...       ...       ...       ...       ...   \n",
       "173 -3.370524 -2.216289 -0.342570  1.058527 -0.574164 -1.108788  0.958416   \n",
       "174 -2.601956 -1.757229  0.207581  0.349496  0.255063 -0.026465  0.146894   \n",
       "175 -2.677839 -2.760899 -0.940942  0.312035  1.271355  0.273068  0.679235   \n",
       "176 -2.387017 -2.297347 -0.550696 -0.688285  0.813955  1.178783  0.633975   \n",
       "177 -3.208758 -2.768920  1.013914  0.596903 -0.895193  0.296092  0.005741   \n",
       "\n",
       "          PC8       PC9      PC10  Type  \n",
       "0    0.065139  0.641443  1.020956     1  \n",
       "1    1.024416 -0.308847  0.159701     1  \n",
       "2   -0.344216 -1.177834  0.113361     1  \n",
       "3    0.643593  0.052544  0.239413     1  \n",
       "4    0.416700  0.326819 -0.078366     1  \n",
       "..        ...       ...       ...   ...  \n",
       "173 -0.146097 -0.022498 -0.304117     3  \n",
       "174 -0.552427 -0.097969 -0.206061     3  \n",
       "175  0.047024  0.001222 -0.247997     3  \n",
       "176  0.390829  0.057448  0.491490     3  \n",
       "177 -0.292914  0.741660 -0.117969     3  \n",
       "\n",
       "[178 rows x 11 columns]"
      ]
     },
     "execution_count": 22,
     "metadata": {},
     "output_type": "execute_result"
    }
   ],
   "source": [
    "df_PCA = pd.DataFrame(data=pca_com, columns=['PC1','PC2','PC3', 'PC4','PC5', 'PC6', 'PC7', 'PC8', 'PC9', 'PC10'])\n",
    "df_PCA['Type'] = dataset['Type'] \n",
    "df_PCA "
   ]
  },
  {
   "cell_type": "markdown",
   "metadata": {},
   "source": [
    " ### Visualizing... Understanding what we did exactly"
   ]
  },
  {
   "cell_type": "code",
   "execution_count": 27,
   "metadata": {},
   "outputs": [
    {
     "data": {
      "application/vnd.plotly.v1+json": {
       "config": {
        "plotlyServerURL": "https://plot.ly"
       },
       "data": [
        {
         "diagonal": {
          "visible": true
         },
         "dimensions": [
          {
           "axis": {
            "matches": true
           },
           "label": "PC 1 (36.2%)",
           "values": [
            3.316750812214778,
            2.209464916918849,
            2.5167401466103825,
            3.757065609773208,
            1.0089084937957136,
            3.0502539224180802,
            2.4490896695962325,
            2.059436871437914,
            2.5108742973989893,
            2.7536281876339097,
            3.479736682731212,
            1.7547529012945888,
            2.1134623403150963,
            3.4581568193367223,
            4.312783906765564,
            2.3051882008279727,
            2.1719552737415135,
            1.8989711765627617,
            3.5419850819434706,
            2.084522204730312,
            3.1244025351672002,
            1.08657006833224,
            2.5352240799037147,
            1.6449883412544695,
            1.7615758722693002,
            0.9900791016088543,
            1.7752776281133693,
            1.2354239643099059,
            2.188406334451961,
            2.2561089812837074,
            2.5002200257894245,
            2.6774110474440156,
            1.628579116430918,
            1.9026908622381473,
            1.4103885265954064,
            1.903826232194486,
            1.384862230374839,
            1.1222074104413104,
            1.502194500618192,
            2.529801092371811,
            2.5880954258544024,
            0.6684819937541877,
            3.0708069904120086,
            0.4622091375160081,
            2.1013519305380153,
            1.136166177561019,
            2.7266009636408035,
            2.8213392741922485,
            2.009850850912359,
            2.707491304266395,
            3.2149174747738245,
            2.858959826717294,
            3.505604355923225,
            2.2247913805321735,
            2.1469878235638675,
            2.4693294837977877,
            2.741517914277453,
            2.1737409209653076,
            3.1393801518289965,
            -0.9285819689218545,
            -1.542480137896881,
            -1.8362497634669392,
            0.030606834086679836,
            2.0502616075763154,
            -0.6096808271776234,
            0.9002278387071428,
            2.248507190798394,
            0.1833840266847551,
            -0.8128050273520715,
            1.9756204987985533,
            -1.5722162196263008,
            1.657681808833287,
            -0.7253723880353569,
            2.5622271731703585,
            1.8325675700495463,
            -0.8679929031954124,
            0.3700144042947824,
            -1.457377044906139,
            1.2629308497284968,
            0.37615037193423934,
            0.7620639041095973,
            1.034577967165187,
            -0.4948767556803291,
            -2.5389770842951207,
            0.8353201453942966,
            0.7879046149897087,
            -0.8068321559655397,
            -0.5580426248756845,
            -1.1151110419194472,
            -0.5557228299517029,
            -1.3492852824437314,
            -1.5644826057199066,
            -1.9325556106314645,
            0.7466659419884489,
            0.9574553638036396,
            2.543865184199552,
            -0.54395258877623,
            1.031049750388148,
            2.251909422148123,
            1.4102160153374586,
            0.7977197926930412,
            -0.5495317266494646,
            -0.16117373994854636,
            -0.6597949416843613,
            0.392354408185082,
            -1.7724990779600354,
            -0.36626735735206517,
            -1.6206725727874802,
            0.0825357834933265,
            1.57827507093238,
            1.4205692478240157,
            -0.27870275364885555,
            -1.303144966248281,
            -0.45707186565262625,
            -0.4941858470443765,
            0.4820744097730912,
            -0.25288887765320095,
            -0.1072276377291252,
            -2.4330126025502175,
            -0.551089539174651,
            0.7396219285682207,
            1.3363217334183284,
            -1.177086996247774,
            -0.46233500801967875,
            0.9784740793566472,
            -0.09680972631598667,
            0.03848714594902389,
            -1.5971585012074736,
            -0.4795649160831276,
            -1.792833473031144,
            -1.3271016561416022,
            -2.384500834743529,
            -2.936940102146613,
            -2.1468111338160636,
            -2.3698694883330425,
            -3.0638415687203544,
            -3.915753783711889,
            -3.9364633907159634,
            -3.094276117762275,
            -2.3744716280069236,
            -2.778812947632514,
            -2.286561284738469,
            -2.985633487449466,
            -2.3751946982271077,
            -2.2098655255958706,
            -2.62562100469272,
            -4.2806387787510864,
            -3.582641372001103,
            -2.8070637200816586,
            -2.8996593330239104,
            -2.3207369765492043,
            -2.5498309472261353,
            -1.8125412848422993,
            -2.760144641923949,
            -2.7371505006679904,
            -3.604868868183423,
            -2.889825996873506,
            -3.39215607683572,
            -1.0481818968536778,
            -1.6099122828479357,
            -3.143130966743974,
            -2.2401568962695424,
            -2.84767377611952,
            -2.597497056648764,
            -2.949299373134844,
            -3.5300322663493113,
            -2.406110540478551,
            -2.929084726967454,
            -2.1814127788126214,
            -2.38092778713564,
            -3.211617215041248,
            -3.6779187209738153,
            -2.465555798040449,
            -3.370524145442859,
            -2.601955851224737,
            -2.6778394608645004,
            -2.387017091279719,
            -3.2087581641980223
           ]
          },
          {
           "axis": {
            "matches": true
           },
           "label": "PC 2 (19.2%)",
           "values": [
            -1.443462634318008,
            0.33339288708030146,
            -1.0311512962743188,
            -2.75637191371071,
            -0.8698308214172059,
            -2.122401114634189,
            -1.1748501316494728,
            -1.6089630683635066,
            -0.9180709573337749,
            -0.7894376738336051,
            -1.3023332371235927,
            -0.6119772287456297,
            -0.6757063391426174,
            -1.1306298761729352,
            -2.0959755753412597,
            -1.6625517299890553,
            -2.327305336191418,
            -1.631368878642837,
            -2.5183436693066437,
            -1.06113799358386,
            -0.786897105650894,
            -0.24174355133284023,
            0.09184062072088074,
            0.5162789300672347,
            0.31714893268438027,
            -0.9406673381906369,
            -0.6861751342850231,
            0.08980704136064127,
            -0.6895696206616246,
            -0.1914619368866637,
            -1.2408338348969428,
            -1.4718736461032473,
            -0.05270445057532314,
            -1.6330604347699833,
            -0.6979343246113565,
            -0.17671095109545606,
            -0.6586398536611493,
            -0.11410976029688813,
            0.7694320064310094,
            -1.8030019760618266,
            -0.7796163041925067,
            -0.16996094061987393,
            -1.1559189566098818,
            -0.33074213219227455,
            0.07100892095406751,
            -1.777107392977636,
            -1.191334691957182,
            -0.6462585991417019,
            -1.247029460678759,
            -1.7519674072063354,
            -0.1669919949967888,
            -0.7452788039895878,
            -1.6127338560350089,
            -1.8751679995630237,
            -1.0167515377576584,
            -1.3290083106496215,
            -1.436548783512513,
            -1.2121998406977934,
            -1.7315791159925111,
            3.0734861631889294,
            1.381443508094228,
            0.8299841230557184,
            1.2627861442114028,
            1.9250326046500996,
            1.908058805085185,
            0.7639114736096075,
            1.8845924845501336,
            2.42714611470357,
            0.22051398690226962,
            1.4032832253096141,
            0.8849831369082215,
            0.9567121974591469,
            1.0636454007060936,
            -0.26019855065459885,
            1.287878197860524,
            2.4441011855808625,
            2.153906975156988,
            1.3833517690762582,
            0.770849529970117,
            1.0270434033558207,
            3.375053809963532,
            1.4507097382440912,
            2.381243526767366,
            0.08744335730498212,
            1.473670551400865,
            2.026626522462475,
            2.2338303908439094,
            2.372985428849451,
            1.8022471916654517,
            2.6575400353922904,
            2.1180014697848155,
            1.8522145217655481,
            1.5594954568986203,
            2.312931709220738,
            2.223528434667458,
            -0.16927402279974152,
            0.36892654587731444,
            2.565569348733522,
            1.4327413803542546,
            2.166191769370382,
            2.376948803081861,
            2.2931286432456255,
            1.1644833215600139,
            2.679961185989634,
            2.098731708765536,
            1.7172884693761408,
            2.1693532978292813,
            1.3555833880259556,
            2.3062345877483232,
            1.4620342902048133,
            1.4182066376337492,
            1.9305680886704664,
            0.7631723136577889,
            2.269415607589672,
            1.9390450494868297,
            3.8717838484072344,
            2.8214923747015908,
            1.928922042566956,
            1.2571410404943937,
            2.22216155077662,
            1.4089566673657101,
            -0.25333693116830974,
            0.6639668398015683,
            0.6182881794850423,
            1.445570498895825,
            2.109997993135223,
            1.2667621091578836,
            1.2081435741284816,
            1.9388406603940453,
            1.1502881044421036,
            -0.1703892320490277,
            -0.37458260552469336,
            -0.2638618300683805,
            -0.3682549518864609,
            0.4596348092311667,
            -0.35341283545840185,
            -0.15458251944173246,
            -0.6596872334097827,
            -0.3488427592737948,
            -0.2919803515599948,
            -0.28680487288217493,
            -0.37250784468529796,
            -0.48921790834701334,
            -0.4823337172448761,
            -1.1600525041576417,
            -0.5631607642108332,
            -0.649670964023704,
            -1.2727027497272998,
            -1.5705337870411957,
            -2.0410570079384627,
            -2.3563660755566724,
            -2.045283091019522,
            -1.5276459462687517,
            -2.1389323476426085,
            -0.4098862708817892,
            -1.8023842175839646,
            -1.9252186131303404,
            -1.3118763884735962,
            -3.515089691219728,
            -2.4066381595743267,
            -0.7381610441757966,
            -1.1754652881188639,
            -0.5560439658826739,
            -0.6979655372009186,
            -1.555308964283981,
            -0.8825267962042346,
            -2.592356175042396,
            -1.27444694790448,
            -2.0775373127345147,
            -2.5886674324185894,
            0.25124910442559123,
            -0.8477478441497625,
            -2.193798303654091,
            -2.216289139861134,
            -1.7572293509792731,
            -2.7608991316745435,
            -2.297346679712817,
            -2.7689195660475727
           ]
          },
          {
           "axis": {
            "matches": true
           },
           "label": "PC 3 (11.1%)",
           "values": [
            -0.16573904461442007,
            -2.0264573738075344,
            0.9828186702120592,
            -0.17619184219949252,
            2.026688219235406,
            -0.6293958270439128,
            -0.9770948907141963,
            0.1462818830615594,
            -1.7709690272289433,
            -0.9842474895182357,
            -0.42273521658084645,
            -1.190878319630174,
            -0.8650864256166538,
            -1.2042763525381928,
            -1.2639127523580003,
            0.21790261559595825,
            0.8317298659860064,
            0.7949137923810689,
            -0.4854585076662926,
            -0.1647466784994744,
            -0.3648870829888468,
            0.9369615996106446,
            -0.3119326593479692,
            0.1438850946707965,
            0.8902856474056893,
            3.8209080081948352,
            -0.08670040648876316,
            -1.3868965448964348,
            1.394566880850359,
            -1.092657257508293,
            1.3860178547156776,
            -0.33226172837509327,
            -0.1671287062453345,
            1.172082119175345,
            0.47974302516866163,
            0.4508350400372085,
            0.4584385808520618,
            -0.03910727668974833,
            -1.4261773458904599,
            -0.3431523889796925,
            -0.11847746611373723,
            -0.7833625480611448,
            -0.3127580839341547,
            -0.2014764962567722,
            -0.6558494150434344,
            0.028705735784751548,
            -0.5397732611476733,
            -1.1555524107274076,
            -0.05729398793992371,
            -0.6431136120007949,
            -1.973571679901373,
            0.004719502164697304,
            -0.5207745300761751,
            0.33954985035420876,
            -0.9577627619503268,
            0.513437453035969,
            -0.6124733957169594,
            0.26177959277079,
            -0.28566141261644984,
            -4.585064007148202,
            -0.8746831124458077,
            -1.6057021863206185,
            -1.7844080104188529,
            -0.007368777349816226,
            0.6793579379775365,
            0.5733613020971908,
            -2.0318401928675858,
            -1.0697455602477952,
            -0.7070053958009666,
            -1.2382762196848631,
            -0.6289979502315939,
            1.9525842166061969,
            0.08033222861543736,
            3.374393962239756,
            0.4582800273995598,
            -1.5633331789503764,
            -2.449386348303737,
            -0.22730690232730374,
            -1.1842245173752424,
            1.7944662945426584,
            -0.35747005553946315,
            -0.36301177316395994,
            1.3357431762848673,
            0.47425139276914613,
            0.6100935756921061,
            -0.254723403969549,
            0.7728557971982648,
            2.307611404012005,
            0.9592533076886547,
            0.8491268977432266,
            -0.04765232084869185,
            0.7810670309346317,
            -0.089274676108679,
            0.11467976874541624,
            0.14244477369872727,
            0.7886969907454751,
            1.3088959318568594,
            -1.086390173817738,
            -0.23020824379781418,
            0.7488964107708784,
            -1.5681125312755235,
            -1.4989353232010756,
            1.003713102837356,
            -0.7649208684795126,
            -0.4718500076097364,
            0.9470331744608647,
            -0.4813242347422895,
            0.28715900069561595,
            -0.46357498937395375,
            1.779645954733284,
            0.13927582948819092,
            0.07867055304723447,
            1.999596510486854,
            1.0613389675926657,
            1.3239380723766936,
            1.3442712233930736,
            -0.30263978453063844,
            0.6901482425075119,
            -1.9030274044113495,
            -0.35622883021253443,
            1.1253454920042367,
            5.34538817919574,
            3.010221887946427,
            0.4834423663441809,
            1.4812369749959458,
            0.434826115616789,
            0.687577912872808,
            3.3611755553864264,
            1.2965075188296693,
            0.7828001731822649,
            -1.1800133553094858,
            -0.7238225948116626,
            -0.1676398159837209,
            -0.4533013014691855,
            -1.1013997885920574,
            -1.0991241041153401,
            0.22182779984104734,
            1.7122154192145347,
            -1.0268314134224503,
            1.2419143328305637,
            0.6096701239723722,
            -0.9716430323608529,
            0.9469529317999698,
            -0.2528839940533336,
            -1.2451252259210632,
            -0.8559610818033769,
            -1.4581969616385675,
            -0.11078403762472745,
            -0.4725279345720873,
            -0.4959598102350944,
            0.4376817436187606,
            -0.31226799865093186,
            1.3625897815878694,
            -0.9646286882006808,
            -1.1904046839669853,
            -0.09403686133597389,
            -0.7823225555084492,
            1.6020259689000211,
            1.1600385659132233,
            0.5485596972407076,
            -0.09099872392222327,
            -0.10137693249612169,
            0.8042152181010284,
            -0.8849395211306327,
            -0.9834007272249415,
            -0.46602912777854044,
            0.42822621079957646,
            -1.2133582715051479,
            0.7637825515581178,
            1.4180440294968122,
            -0.8471291521285003,
            -1.3394202310855163,
            -0.9187809604264914,
            -0.34256951241432376,
            0.20758135498125038,
            -0.9409418766769951,
            -0.5506961970110879,
            1.0139136641131112
           ]
          },
          {
           "axis": {
            "matches": true
           },
           "label": "PC 4 (7.1%)",
           "values": [
            -0.21563118755909552,
            -0.29135831818067054,
            0.7249023094447363,
            0.5679833077759047,
            -0.4097657883574762,
            -0.5156374945358435,
            -0.06583050459017963,
            -1.1926080102922128,
            0.05627036123002014,
            0.3493815683116331,
            0.026841759973585264,
            -0.8901643378997555,
            -0.35643801000969183,
            0.16245806285915107,
            0.3057731897043586,
            -1.4405900273281065,
            -0.9126012748605079,
            -1.0823803881739003,
            -0.9103228070334919,
            0.48499741925280093,
            -0.025561690615422503,
            1.0299098409855703,
            -0.04839123553407981,
            -0.4137200244408192,
            -0.11511561127371768,
            -1.321561198399425,
            -0.23290678013650157,
            -0.49568272032054045,
            -0.7774918110895648,
            0.2861522992534088,
            -0.36686522019109374,
            -0.3493538754148745,
            -0.7493142456722148,
            -2.3404290386722004,
            -1.0600862162177864,
            0.284113552335341,
            -1.28465815144691,
            -0.9564012232757307,
            -0.7575080925372699,
            1.1869742956154532,
            0.47597143975668277,
            1.3130837770039707,
            0.5502846354673256,
            1.4364938632755901,
            0.7577448387022122,
            0.691831211774578,
            1.3895506741306836,
            0.9876629123241939,
            0.23064310704031135,
            -0.10023152006304814,
            1.1206839390434622,
            -0.21527655699453943,
            0.10653642366463692,
            -1.2069665793418747,
            -0.24031819021887058,
            0.2553486207166424,
            0.20574744102620143,
            -0.5044260860796331,
            0.23056721248328302,
            -1.0518443905458084,
            -2.890119746157412,
            -1.4521048531888503,
            -1.2065760705635404,
            0.7213219027367335,
            -2.153076090835888,
            -0.6793616342868698,
            1.4076272343171603,
            0.12741797198491148,
            -2.4889895776206448,
            -1.152306488866305,
            -1.1718464071389487,
            0.15220891160111838,
            -0.07601943117966796,
            -0.9793994323621947,
            0.1713507535169366,
            -0.8314598593846867,
            -0.12615904447506945,
            -0.696356870373812,
            -0.925882243711537,
            0.9785445272560227,
            -0.36673291451865303,
            0.2965957804499003,
            -1.0409788442473458,
            0.7586014542364385,
            0.5829518777254145,
            -0.8094180804315694,
            -1.013715746931829,
            -1.035320305823692,
            -0.3312837911530136,
            -0.0031976413270179693,
            -0.4662505669541226,
            -0.6050793910273182,
            -0.5225693568575551,
            1.2485387039903946,
            0.3140429470385445,
            -1.0328370427002977,
            -1.2779985588465321,
            0.26386098478434183,
            0.921171096543847,
            1.1956111880598308,
            -0.03481636022109916,
            -0.3070386710514798,
            0.6616862238806783,
            0.4699547735549651,
            0.43705657473857656,
            0.25951258606806427,
            0.39840046167275217,
            -0.02602454598817024,
            0.8903510234579498,
            0.6135844239909828,
            3.4305394609748228,
            0.9285207407965379,
            -1.7258358801711087,
            -0.8374320543803766,
            -0.06159724830110598,
            -0.8999104922079434,
            0.45796710142112695,
            -0.2737224840847113,
            0.8697319052756125,
            1.3633198872949546,
            1.2051114675925982,
            0.2390375126061991,
            1.1661369564822728,
            3.5767243570819116,
            3.7903350912632816,
            1.0546952788758335,
            1.2728841836169427,
            -0.2192775528170215,
            0.6869762250808232,
            1.4787789658343207,
            -1.50170980567449,
            -0.30819498345046126,
            -0.4087734217917928,
            0.04852756505450754,
            -0.8567773352940176,
            -0.7403981320869335,
            -0.009068327453000834,
            0.5454838007805789,
            -0.07134920796519803,
            -0.7488055395994844,
            -0.8793468858520287,
            -0.37143773595736534,
            -1.03622558567491,
            0.6711492638133852,
            0.3188381881276827,
            0.27568402610016185,
            1.1281643024386094,
            1.0499090445620187,
            0.6273584503465383,
            0.47115561543884105,
            -0.052259775540522364,
            0.3869716822307126,
            -0.1893959060349088,
            0.6683861119278012,
            -0.66304520432295,
            1.268840473513732,
            1.3247254007768943,
            -0.4828421441297832,
            0.9353293944209213,
            0.75430968398071,
            0.9806478454856736,
            -1.1652787163314804,
            -0.8978880662595383,
            -0.27422874768254246,
            0.015480346925875396,
            0.5807896245708684,
            -0.1843350916057129,
            0.2953160469465653,
            -0.3895933218994594,
            0.5885019355198805,
            -0.21706535466547938,
            -0.1251758651527101,
            0.018024995000058497,
            1.0585268387311912,
            0.34949642154655686,
            0.3120347462649435,
            -0.6882845476085586,
            0.596903186064329
           ]
          }
         ],
         "hovertemplate": "%{xaxis.title.text}=%{x}<br>%{yaxis.title.text}=%{y}<br>color=%{marker.color}<extra></extra>",
         "legendgroup": "",
         "marker": {
          "color": [
           1,
           1,
           1,
           1,
           1,
           1,
           1,
           1,
           1,
           1,
           1,
           1,
           1,
           1,
           1,
           1,
           1,
           1,
           1,
           1,
           1,
           1,
           1,
           1,
           1,
           1,
           1,
           1,
           1,
           1,
           1,
           1,
           1,
           1,
           1,
           1,
           1,
           1,
           1,
           1,
           1,
           1,
           1,
           1,
           1,
           1,
           1,
           1,
           1,
           1,
           1,
           1,
           1,
           1,
           1,
           1,
           1,
           1,
           1,
           2,
           2,
           2,
           2,
           2,
           2,
           2,
           2,
           2,
           2,
           2,
           2,
           2,
           2,
           2,
           2,
           2,
           2,
           2,
           2,
           2,
           2,
           2,
           2,
           2,
           2,
           2,
           2,
           2,
           2,
           2,
           2,
           2,
           2,
           2,
           2,
           2,
           2,
           2,
           2,
           2,
           2,
           2,
           2,
           2,
           2,
           2,
           2,
           2,
           2,
           2,
           2,
           2,
           2,
           2,
           2,
           2,
           2,
           2,
           2,
           2,
           2,
           2,
           2,
           2,
           2,
           2,
           2,
           2,
           2,
           2,
           3,
           3,
           3,
           3,
           3,
           3,
           3,
           3,
           3,
           3,
           3,
           3,
           3,
           3,
           3,
           3,
           3,
           3,
           3,
           3,
           3,
           3,
           3,
           3,
           3,
           3,
           3,
           3,
           3,
           3,
           3,
           3,
           3,
           3,
           3,
           3,
           3,
           3,
           3,
           3,
           3,
           3,
           3,
           3,
           3,
           3,
           3,
           3
          ],
          "coloraxis": "coloraxis",
          "symbol": "circle"
         },
         "name": "",
         "showlegend": false,
         "type": "splom"
        }
       ],
       "layout": {
        "coloraxis": {
         "colorbar": {
          "title": {
           "text": "color"
          }
         },
         "colorscale": [
          [
           0,
           "#0d0887"
          ],
          [
           0.1111111111111111,
           "#46039f"
          ],
          [
           0.2222222222222222,
           "#7201a8"
          ],
          [
           0.3333333333333333,
           "#9c179e"
          ],
          [
           0.4444444444444444,
           "#bd3786"
          ],
          [
           0.5555555555555556,
           "#d8576b"
          ],
          [
           0.6666666666666666,
           "#ed7953"
          ],
          [
           0.7777777777777778,
           "#fb9f3a"
          ],
          [
           0.8888888888888888,
           "#fdca26"
          ],
          [
           1,
           "#f0f921"
          ]
         ]
        },
        "dragmode": "select",
        "legend": {
         "tracegroupgap": 0
        },
        "margin": {
         "t": 60
        },
        "template": {
         "data": {
          "bar": [
           {
            "error_x": {
             "color": "#2a3f5f"
            },
            "error_y": {
             "color": "#2a3f5f"
            },
            "marker": {
             "line": {
              "color": "#E5ECF6",
              "width": 0.5
             }
            },
            "type": "bar"
           }
          ],
          "barpolar": [
           {
            "marker": {
             "line": {
              "color": "#E5ECF6",
              "width": 0.5
             }
            },
            "type": "barpolar"
           }
          ],
          "carpet": [
           {
            "aaxis": {
             "endlinecolor": "#2a3f5f",
             "gridcolor": "white",
             "linecolor": "white",
             "minorgridcolor": "white",
             "startlinecolor": "#2a3f5f"
            },
            "baxis": {
             "endlinecolor": "#2a3f5f",
             "gridcolor": "white",
             "linecolor": "white",
             "minorgridcolor": "white",
             "startlinecolor": "#2a3f5f"
            },
            "type": "carpet"
           }
          ],
          "choropleth": [
           {
            "colorbar": {
             "outlinewidth": 0,
             "ticks": ""
            },
            "type": "choropleth"
           }
          ],
          "contour": [
           {
            "colorbar": {
             "outlinewidth": 0,
             "ticks": ""
            },
            "colorscale": [
             [
              0,
              "#0d0887"
             ],
             [
              0.1111111111111111,
              "#46039f"
             ],
             [
              0.2222222222222222,
              "#7201a8"
             ],
             [
              0.3333333333333333,
              "#9c179e"
             ],
             [
              0.4444444444444444,
              "#bd3786"
             ],
             [
              0.5555555555555556,
              "#d8576b"
             ],
             [
              0.6666666666666666,
              "#ed7953"
             ],
             [
              0.7777777777777778,
              "#fb9f3a"
             ],
             [
              0.8888888888888888,
              "#fdca26"
             ],
             [
              1,
              "#f0f921"
             ]
            ],
            "type": "contour"
           }
          ],
          "contourcarpet": [
           {
            "colorbar": {
             "outlinewidth": 0,
             "ticks": ""
            },
            "type": "contourcarpet"
           }
          ],
          "heatmap": [
           {
            "colorbar": {
             "outlinewidth": 0,
             "ticks": ""
            },
            "colorscale": [
             [
              0,
              "#0d0887"
             ],
             [
              0.1111111111111111,
              "#46039f"
             ],
             [
              0.2222222222222222,
              "#7201a8"
             ],
             [
              0.3333333333333333,
              "#9c179e"
             ],
             [
              0.4444444444444444,
              "#bd3786"
             ],
             [
              0.5555555555555556,
              "#d8576b"
             ],
             [
              0.6666666666666666,
              "#ed7953"
             ],
             [
              0.7777777777777778,
              "#fb9f3a"
             ],
             [
              0.8888888888888888,
              "#fdca26"
             ],
             [
              1,
              "#f0f921"
             ]
            ],
            "type": "heatmap"
           }
          ],
          "heatmapgl": [
           {
            "colorbar": {
             "outlinewidth": 0,
             "ticks": ""
            },
            "colorscale": [
             [
              0,
              "#0d0887"
             ],
             [
              0.1111111111111111,
              "#46039f"
             ],
             [
              0.2222222222222222,
              "#7201a8"
             ],
             [
              0.3333333333333333,
              "#9c179e"
             ],
             [
              0.4444444444444444,
              "#bd3786"
             ],
             [
              0.5555555555555556,
              "#d8576b"
             ],
             [
              0.6666666666666666,
              "#ed7953"
             ],
             [
              0.7777777777777778,
              "#fb9f3a"
             ],
             [
              0.8888888888888888,
              "#fdca26"
             ],
             [
              1,
              "#f0f921"
             ]
            ],
            "type": "heatmapgl"
           }
          ],
          "histogram": [
           {
            "marker": {
             "colorbar": {
              "outlinewidth": 0,
              "ticks": ""
             }
            },
            "type": "histogram"
           }
          ],
          "histogram2d": [
           {
            "colorbar": {
             "outlinewidth": 0,
             "ticks": ""
            },
            "colorscale": [
             [
              0,
              "#0d0887"
             ],
             [
              0.1111111111111111,
              "#46039f"
             ],
             [
              0.2222222222222222,
              "#7201a8"
             ],
             [
              0.3333333333333333,
              "#9c179e"
             ],
             [
              0.4444444444444444,
              "#bd3786"
             ],
             [
              0.5555555555555556,
              "#d8576b"
             ],
             [
              0.6666666666666666,
              "#ed7953"
             ],
             [
              0.7777777777777778,
              "#fb9f3a"
             ],
             [
              0.8888888888888888,
              "#fdca26"
             ],
             [
              1,
              "#f0f921"
             ]
            ],
            "type": "histogram2d"
           }
          ],
          "histogram2dcontour": [
           {
            "colorbar": {
             "outlinewidth": 0,
             "ticks": ""
            },
            "colorscale": [
             [
              0,
              "#0d0887"
             ],
             [
              0.1111111111111111,
              "#46039f"
             ],
             [
              0.2222222222222222,
              "#7201a8"
             ],
             [
              0.3333333333333333,
              "#9c179e"
             ],
             [
              0.4444444444444444,
              "#bd3786"
             ],
             [
              0.5555555555555556,
              "#d8576b"
             ],
             [
              0.6666666666666666,
              "#ed7953"
             ],
             [
              0.7777777777777778,
              "#fb9f3a"
             ],
             [
              0.8888888888888888,
              "#fdca26"
             ],
             [
              1,
              "#f0f921"
             ]
            ],
            "type": "histogram2dcontour"
           }
          ],
          "mesh3d": [
           {
            "colorbar": {
             "outlinewidth": 0,
             "ticks": ""
            },
            "type": "mesh3d"
           }
          ],
          "parcoords": [
           {
            "line": {
             "colorbar": {
              "outlinewidth": 0,
              "ticks": ""
             }
            },
            "type": "parcoords"
           }
          ],
          "pie": [
           {
            "automargin": true,
            "type": "pie"
           }
          ],
          "scatter": [
           {
            "marker": {
             "colorbar": {
              "outlinewidth": 0,
              "ticks": ""
             }
            },
            "type": "scatter"
           }
          ],
          "scatter3d": [
           {
            "line": {
             "colorbar": {
              "outlinewidth": 0,
              "ticks": ""
             }
            },
            "marker": {
             "colorbar": {
              "outlinewidth": 0,
              "ticks": ""
             }
            },
            "type": "scatter3d"
           }
          ],
          "scattercarpet": [
           {
            "marker": {
             "colorbar": {
              "outlinewidth": 0,
              "ticks": ""
             }
            },
            "type": "scattercarpet"
           }
          ],
          "scattergeo": [
           {
            "marker": {
             "colorbar": {
              "outlinewidth": 0,
              "ticks": ""
             }
            },
            "type": "scattergeo"
           }
          ],
          "scattergl": [
           {
            "marker": {
             "colorbar": {
              "outlinewidth": 0,
              "ticks": ""
             }
            },
            "type": "scattergl"
           }
          ],
          "scattermapbox": [
           {
            "marker": {
             "colorbar": {
              "outlinewidth": 0,
              "ticks": ""
             }
            },
            "type": "scattermapbox"
           }
          ],
          "scatterpolar": [
           {
            "marker": {
             "colorbar": {
              "outlinewidth": 0,
              "ticks": ""
             }
            },
            "type": "scatterpolar"
           }
          ],
          "scatterpolargl": [
           {
            "marker": {
             "colorbar": {
              "outlinewidth": 0,
              "ticks": ""
             }
            },
            "type": "scatterpolargl"
           }
          ],
          "scatterternary": [
           {
            "marker": {
             "colorbar": {
              "outlinewidth": 0,
              "ticks": ""
             }
            },
            "type": "scatterternary"
           }
          ],
          "surface": [
           {
            "colorbar": {
             "outlinewidth": 0,
             "ticks": ""
            },
            "colorscale": [
             [
              0,
              "#0d0887"
             ],
             [
              0.1111111111111111,
              "#46039f"
             ],
             [
              0.2222222222222222,
              "#7201a8"
             ],
             [
              0.3333333333333333,
              "#9c179e"
             ],
             [
              0.4444444444444444,
              "#bd3786"
             ],
             [
              0.5555555555555556,
              "#d8576b"
             ],
             [
              0.6666666666666666,
              "#ed7953"
             ],
             [
              0.7777777777777778,
              "#fb9f3a"
             ],
             [
              0.8888888888888888,
              "#fdca26"
             ],
             [
              1,
              "#f0f921"
             ]
            ],
            "type": "surface"
           }
          ],
          "table": [
           {
            "cells": {
             "fill": {
              "color": "#EBF0F8"
             },
             "line": {
              "color": "white"
             }
            },
            "header": {
             "fill": {
              "color": "#C8D4E3"
             },
             "line": {
              "color": "white"
             }
            },
            "type": "table"
           }
          ]
         },
         "layout": {
          "annotationdefaults": {
           "arrowcolor": "#2a3f5f",
           "arrowhead": 0,
           "arrowwidth": 1
          },
          "coloraxis": {
           "colorbar": {
            "outlinewidth": 0,
            "ticks": ""
           }
          },
          "colorscale": {
           "diverging": [
            [
             0,
             "#8e0152"
            ],
            [
             0.1,
             "#c51b7d"
            ],
            [
             0.2,
             "#de77ae"
            ],
            [
             0.3,
             "#f1b6da"
            ],
            [
             0.4,
             "#fde0ef"
            ],
            [
             0.5,
             "#f7f7f7"
            ],
            [
             0.6,
             "#e6f5d0"
            ],
            [
             0.7,
             "#b8e186"
            ],
            [
             0.8,
             "#7fbc41"
            ],
            [
             0.9,
             "#4d9221"
            ],
            [
             1,
             "#276419"
            ]
           ],
           "sequential": [
            [
             0,
             "#0d0887"
            ],
            [
             0.1111111111111111,
             "#46039f"
            ],
            [
             0.2222222222222222,
             "#7201a8"
            ],
            [
             0.3333333333333333,
             "#9c179e"
            ],
            [
             0.4444444444444444,
             "#bd3786"
            ],
            [
             0.5555555555555556,
             "#d8576b"
            ],
            [
             0.6666666666666666,
             "#ed7953"
            ],
            [
             0.7777777777777778,
             "#fb9f3a"
            ],
            [
             0.8888888888888888,
             "#fdca26"
            ],
            [
             1,
             "#f0f921"
            ]
           ],
           "sequentialminus": [
            [
             0,
             "#0d0887"
            ],
            [
             0.1111111111111111,
             "#46039f"
            ],
            [
             0.2222222222222222,
             "#7201a8"
            ],
            [
             0.3333333333333333,
             "#9c179e"
            ],
            [
             0.4444444444444444,
             "#bd3786"
            ],
            [
             0.5555555555555556,
             "#d8576b"
            ],
            [
             0.6666666666666666,
             "#ed7953"
            ],
            [
             0.7777777777777778,
             "#fb9f3a"
            ],
            [
             0.8888888888888888,
             "#fdca26"
            ],
            [
             1,
             "#f0f921"
            ]
           ]
          },
          "colorway": [
           "#636efa",
           "#EF553B",
           "#00cc96",
           "#ab63fa",
           "#FFA15A",
           "#19d3f3",
           "#FF6692",
           "#B6E880",
           "#FF97FF",
           "#FECB52"
          ],
          "font": {
           "color": "#2a3f5f"
          },
          "geo": {
           "bgcolor": "white",
           "lakecolor": "white",
           "landcolor": "#E5ECF6",
           "showlakes": true,
           "showland": true,
           "subunitcolor": "white"
          },
          "hoverlabel": {
           "align": "left"
          },
          "hovermode": "closest",
          "mapbox": {
           "style": "light"
          },
          "paper_bgcolor": "white",
          "plot_bgcolor": "#E5ECF6",
          "polar": {
           "angularaxis": {
            "gridcolor": "white",
            "linecolor": "white",
            "ticks": ""
           },
           "bgcolor": "#E5ECF6",
           "radialaxis": {
            "gridcolor": "white",
            "linecolor": "white",
            "ticks": ""
           }
          },
          "scene": {
           "xaxis": {
            "backgroundcolor": "#E5ECF6",
            "gridcolor": "white",
            "gridwidth": 2,
            "linecolor": "white",
            "showbackground": true,
            "ticks": "",
            "zerolinecolor": "white"
           },
           "yaxis": {
            "backgroundcolor": "#E5ECF6",
            "gridcolor": "white",
            "gridwidth": 2,
            "linecolor": "white",
            "showbackground": true,
            "ticks": "",
            "zerolinecolor": "white"
           },
           "zaxis": {
            "backgroundcolor": "#E5ECF6",
            "gridcolor": "white",
            "gridwidth": 2,
            "linecolor": "white",
            "showbackground": true,
            "ticks": "",
            "zerolinecolor": "white"
           }
          },
          "shapedefaults": {
           "line": {
            "color": "#2a3f5f"
           }
          },
          "ternary": {
           "aaxis": {
            "gridcolor": "white",
            "linecolor": "white",
            "ticks": ""
           },
           "baxis": {
            "gridcolor": "white",
            "linecolor": "white",
            "ticks": ""
           },
           "bgcolor": "#E5ECF6",
           "caxis": {
            "gridcolor": "white",
            "linecolor": "white",
            "ticks": ""
           }
          },
          "title": {
           "x": 0.05
          },
          "xaxis": {
           "automargin": true,
           "gridcolor": "white",
           "linecolor": "white",
           "ticks": "",
           "title": {
            "standoff": 15
           },
           "zerolinecolor": "white",
           "zerolinewidth": 2
          },
          "yaxis": {
           "automargin": true,
           "gridcolor": "white",
           "linecolor": "white",
           "ticks": "",
           "title": {
            "standoff": 15
           },
           "zerolinecolor": "white",
           "zerolinewidth": 2
          }
         }
        }
       }
      },
      "text/html": [
       "<div>                            <div id=\"03f76c84-4e1f-4810-b036-2a69ff003ff0\" class=\"plotly-graph-div\" style=\"height:525px; width:100%;\"></div>            <script type=\"text/javascript\">                require([\"plotly\"], function(Plotly) {                    window.PLOTLYENV=window.PLOTLYENV || {};                                    if (document.getElementById(\"03f76c84-4e1f-4810-b036-2a69ff003ff0\")) {                    Plotly.newPlot(                        \"03f76c84-4e1f-4810-b036-2a69ff003ff0\",                        [{\"diagonal\": {\"visible\": true}, \"dimensions\": [{\"axis\": {\"matches\": true}, \"label\": \"PC 1 (36.2%)\", \"values\": [3.316750812214778, 2.209464916918849, 2.5167401466103825, 3.757065609773208, 1.0089084937957136, 3.0502539224180802, 2.4490896695962325, 2.059436871437914, 2.5108742973989893, 2.7536281876339097, 3.479736682731212, 1.7547529012945888, 2.1134623403150963, 3.4581568193367223, 4.312783906765564, 2.3051882008279727, 2.1719552737415135, 1.8989711765627617, 3.5419850819434706, 2.084522204730312, 3.1244025351672002, 1.08657006833224, 2.5352240799037147, 1.6449883412544695, 1.7615758722693002, 0.9900791016088543, 1.7752776281133693, 1.2354239643099059, 2.188406334451961, 2.2561089812837074, 2.5002200257894245, 2.6774110474440156, 1.628579116430918, 1.9026908622381473, 1.4103885265954064, 1.903826232194486, 1.384862230374839, 1.1222074104413104, 1.502194500618192, 2.529801092371811, 2.5880954258544024, 0.6684819937541877, 3.0708069904120086, 0.4622091375160081, 2.1013519305380153, 1.136166177561019, 2.7266009636408035, 2.8213392741922485, 2.009850850912359, 2.707491304266395, 3.2149174747738245, 2.858959826717294, 3.505604355923225, 2.2247913805321735, 2.1469878235638675, 2.4693294837977877, 2.741517914277453, 2.1737409209653076, 3.1393801518289965, -0.9285819689218545, -1.542480137896881, -1.8362497634669392, 0.030606834086679836, 2.0502616075763154, -0.6096808271776234, 0.9002278387071428, 2.248507190798394, 0.1833840266847551, -0.8128050273520715, 1.9756204987985533, -1.5722162196263008, 1.657681808833287, -0.7253723880353569, 2.5622271731703585, 1.8325675700495463, -0.8679929031954124, 0.3700144042947824, -1.457377044906139, 1.2629308497284968, 0.37615037193423934, 0.7620639041095973, 1.034577967165187, -0.4948767556803291, -2.5389770842951207, 0.8353201453942966, 0.7879046149897087, -0.8068321559655397, -0.5580426248756845, -1.1151110419194472, -0.5557228299517029, -1.3492852824437314, -1.5644826057199066, -1.9325556106314645, 0.7466659419884489, 0.9574553638036396, 2.543865184199552, -0.54395258877623, 1.031049750388148, 2.251909422148123, 1.4102160153374586, 0.7977197926930412, -0.5495317266494646, -0.16117373994854636, -0.6597949416843613, 0.392354408185082, -1.7724990779600354, -0.36626735735206517, -1.6206725727874802, 0.0825357834933265, 1.57827507093238, 1.4205692478240157, -0.27870275364885555, -1.303144966248281, -0.45707186565262625, -0.4941858470443765, 0.4820744097730912, -0.25288887765320095, -0.1072276377291252, -2.4330126025502175, -0.551089539174651, 0.7396219285682207, 1.3363217334183284, -1.177086996247774, -0.46233500801967875, 0.9784740793566472, -0.09680972631598667, 0.03848714594902389, -1.5971585012074736, -0.4795649160831276, -1.792833473031144, -1.3271016561416022, -2.384500834743529, -2.936940102146613, -2.1468111338160636, -2.3698694883330425, -3.0638415687203544, -3.915753783711889, -3.9364633907159634, -3.094276117762275, -2.3744716280069236, -2.778812947632514, -2.286561284738469, -2.985633487449466, -2.3751946982271077, -2.2098655255958706, -2.62562100469272, -4.2806387787510864, -3.582641372001103, -2.8070637200816586, -2.8996593330239104, -2.3207369765492043, -2.5498309472261353, -1.8125412848422993, -2.760144641923949, -2.7371505006679904, -3.604868868183423, -2.889825996873506, -3.39215607683572, -1.0481818968536778, -1.6099122828479357, -3.143130966743974, -2.2401568962695424, -2.84767377611952, -2.597497056648764, -2.949299373134844, -3.5300322663493113, -2.406110540478551, -2.929084726967454, -2.1814127788126214, -2.38092778713564, -3.211617215041248, -3.6779187209738153, -2.465555798040449, -3.370524145442859, -2.601955851224737, -2.6778394608645004, -2.387017091279719, -3.2087581641980223]}, {\"axis\": {\"matches\": true}, \"label\": \"PC 2 (19.2%)\", \"values\": [-1.443462634318008, 0.33339288708030146, -1.0311512962743188, -2.75637191371071, -0.8698308214172059, -2.122401114634189, -1.1748501316494728, -1.6089630683635066, -0.9180709573337749, -0.7894376738336051, -1.3023332371235927, -0.6119772287456297, -0.6757063391426174, -1.1306298761729352, -2.0959755753412597, -1.6625517299890553, -2.327305336191418, -1.631368878642837, -2.5183436693066437, -1.06113799358386, -0.786897105650894, -0.24174355133284023, 0.09184062072088074, 0.5162789300672347, 0.31714893268438027, -0.9406673381906369, -0.6861751342850231, 0.08980704136064127, -0.6895696206616246, -0.1914619368866637, -1.2408338348969428, -1.4718736461032473, -0.05270445057532314, -1.6330604347699833, -0.6979343246113565, -0.17671095109545606, -0.6586398536611493, -0.11410976029688813, 0.7694320064310094, -1.8030019760618266, -0.7796163041925067, -0.16996094061987393, -1.1559189566098818, -0.33074213219227455, 0.07100892095406751, -1.777107392977636, -1.191334691957182, -0.6462585991417019, -1.247029460678759, -1.7519674072063354, -0.1669919949967888, -0.7452788039895878, -1.6127338560350089, -1.8751679995630237, -1.0167515377576584, -1.3290083106496215, -1.436548783512513, -1.2121998406977934, -1.7315791159925111, 3.0734861631889294, 1.381443508094228, 0.8299841230557184, 1.2627861442114028, 1.9250326046500996, 1.908058805085185, 0.7639114736096075, 1.8845924845501336, 2.42714611470357, 0.22051398690226962, 1.4032832253096141, 0.8849831369082215, 0.9567121974591469, 1.0636454007060936, -0.26019855065459885, 1.287878197860524, 2.4441011855808625, 2.153906975156988, 1.3833517690762582, 0.770849529970117, 1.0270434033558207, 3.375053809963532, 1.4507097382440912, 2.381243526767366, 0.08744335730498212, 1.473670551400865, 2.026626522462475, 2.2338303908439094, 2.372985428849451, 1.8022471916654517, 2.6575400353922904, 2.1180014697848155, 1.8522145217655481, 1.5594954568986203, 2.312931709220738, 2.223528434667458, -0.16927402279974152, 0.36892654587731444, 2.565569348733522, 1.4327413803542546, 2.166191769370382, 2.376948803081861, 2.2931286432456255, 1.1644833215600139, 2.679961185989634, 2.098731708765536, 1.7172884693761408, 2.1693532978292813, 1.3555833880259556, 2.3062345877483232, 1.4620342902048133, 1.4182066376337492, 1.9305680886704664, 0.7631723136577889, 2.269415607589672, 1.9390450494868297, 3.8717838484072344, 2.8214923747015908, 1.928922042566956, 1.2571410404943937, 2.22216155077662, 1.4089566673657101, -0.25333693116830974, 0.6639668398015683, 0.6182881794850423, 1.445570498895825, 2.109997993135223, 1.2667621091578836, 1.2081435741284816, 1.9388406603940453, 1.1502881044421036, -0.1703892320490277, -0.37458260552469336, -0.2638618300683805, -0.3682549518864609, 0.4596348092311667, -0.35341283545840185, -0.15458251944173246, -0.6596872334097827, -0.3488427592737948, -0.2919803515599948, -0.28680487288217493, -0.37250784468529796, -0.48921790834701334, -0.4823337172448761, -1.1600525041576417, -0.5631607642108332, -0.649670964023704, -1.2727027497272998, -1.5705337870411957, -2.0410570079384627, -2.3563660755566724, -2.045283091019522, -1.5276459462687517, -2.1389323476426085, -0.4098862708817892, -1.8023842175839646, -1.9252186131303404, -1.3118763884735962, -3.515089691219728, -2.4066381595743267, -0.7381610441757966, -1.1754652881188639, -0.5560439658826739, -0.6979655372009186, -1.555308964283981, -0.8825267962042346, -2.592356175042396, -1.27444694790448, -2.0775373127345147, -2.5886674324185894, 0.25124910442559123, -0.8477478441497625, -2.193798303654091, -2.216289139861134, -1.7572293509792731, -2.7608991316745435, -2.297346679712817, -2.7689195660475727]}, {\"axis\": {\"matches\": true}, \"label\": \"PC 3 (11.1%)\", \"values\": [-0.16573904461442007, -2.0264573738075344, 0.9828186702120592, -0.17619184219949252, 2.026688219235406, -0.6293958270439128, -0.9770948907141963, 0.1462818830615594, -1.7709690272289433, -0.9842474895182357, -0.42273521658084645, -1.190878319630174, -0.8650864256166538, -1.2042763525381928, -1.2639127523580003, 0.21790261559595825, 0.8317298659860064, 0.7949137923810689, -0.4854585076662926, -0.1647466784994744, -0.3648870829888468, 0.9369615996106446, -0.3119326593479692, 0.1438850946707965, 0.8902856474056893, 3.8209080081948352, -0.08670040648876316, -1.3868965448964348, 1.394566880850359, -1.092657257508293, 1.3860178547156776, -0.33226172837509327, -0.1671287062453345, 1.172082119175345, 0.47974302516866163, 0.4508350400372085, 0.4584385808520618, -0.03910727668974833, -1.4261773458904599, -0.3431523889796925, -0.11847746611373723, -0.7833625480611448, -0.3127580839341547, -0.2014764962567722, -0.6558494150434344, 0.028705735784751548, -0.5397732611476733, -1.1555524107274076, -0.05729398793992371, -0.6431136120007949, -1.973571679901373, 0.004719502164697304, -0.5207745300761751, 0.33954985035420876, -0.9577627619503268, 0.513437453035969, -0.6124733957169594, 0.26177959277079, -0.28566141261644984, -4.585064007148202, -0.8746831124458077, -1.6057021863206185, -1.7844080104188529, -0.007368777349816226, 0.6793579379775365, 0.5733613020971908, -2.0318401928675858, -1.0697455602477952, -0.7070053958009666, -1.2382762196848631, -0.6289979502315939, 1.9525842166061969, 0.08033222861543736, 3.374393962239756, 0.4582800273995598, -1.5633331789503764, -2.449386348303737, -0.22730690232730374, -1.1842245173752424, 1.7944662945426584, -0.35747005553946315, -0.36301177316395994, 1.3357431762848673, 0.47425139276914613, 0.6100935756921061, -0.254723403969549, 0.7728557971982648, 2.307611404012005, 0.9592533076886547, 0.8491268977432266, -0.04765232084869185, 0.7810670309346317, -0.089274676108679, 0.11467976874541624, 0.14244477369872727, 0.7886969907454751, 1.3088959318568594, -1.086390173817738, -0.23020824379781418, 0.7488964107708784, -1.5681125312755235, -1.4989353232010756, 1.003713102837356, -0.7649208684795126, -0.4718500076097364, 0.9470331744608647, -0.4813242347422895, 0.28715900069561595, -0.46357498937395375, 1.779645954733284, 0.13927582948819092, 0.07867055304723447, 1.999596510486854, 1.0613389675926657, 1.3239380723766936, 1.3442712233930736, -0.30263978453063844, 0.6901482425075119, -1.9030274044113495, -0.35622883021253443, 1.1253454920042367, 5.34538817919574, 3.010221887946427, 0.4834423663441809, 1.4812369749959458, 0.434826115616789, 0.687577912872808, 3.3611755553864264, 1.2965075188296693, 0.7828001731822649, -1.1800133553094858, -0.7238225948116626, -0.1676398159837209, -0.4533013014691855, -1.1013997885920574, -1.0991241041153401, 0.22182779984104734, 1.7122154192145347, -1.0268314134224503, 1.2419143328305637, 0.6096701239723722, -0.9716430323608529, 0.9469529317999698, -0.2528839940533336, -1.2451252259210632, -0.8559610818033769, -1.4581969616385675, -0.11078403762472745, -0.4725279345720873, -0.4959598102350944, 0.4376817436187606, -0.31226799865093186, 1.3625897815878694, -0.9646286882006808, -1.1904046839669853, -0.09403686133597389, -0.7823225555084492, 1.6020259689000211, 1.1600385659132233, 0.5485596972407076, -0.09099872392222327, -0.10137693249612169, 0.8042152181010284, -0.8849395211306327, -0.9834007272249415, -0.46602912777854044, 0.42822621079957646, -1.2133582715051479, 0.7637825515581178, 1.4180440294968122, -0.8471291521285003, -1.3394202310855163, -0.9187809604264914, -0.34256951241432376, 0.20758135498125038, -0.9409418766769951, -0.5506961970110879, 1.0139136641131112]}, {\"axis\": {\"matches\": true}, \"label\": \"PC 4 (7.1%)\", \"values\": [-0.21563118755909552, -0.29135831818067054, 0.7249023094447363, 0.5679833077759047, -0.4097657883574762, -0.5156374945358435, -0.06583050459017963, -1.1926080102922128, 0.05627036123002014, 0.3493815683116331, 0.026841759973585264, -0.8901643378997555, -0.35643801000969183, 0.16245806285915107, 0.3057731897043586, -1.4405900273281065, -0.9126012748605079, -1.0823803881739003, -0.9103228070334919, 0.48499741925280093, -0.025561690615422503, 1.0299098409855703, -0.04839123553407981, -0.4137200244408192, -0.11511561127371768, -1.321561198399425, -0.23290678013650157, -0.49568272032054045, -0.7774918110895648, 0.2861522992534088, -0.36686522019109374, -0.3493538754148745, -0.7493142456722148, -2.3404290386722004, -1.0600862162177864, 0.284113552335341, -1.28465815144691, -0.9564012232757307, -0.7575080925372699, 1.1869742956154532, 0.47597143975668277, 1.3130837770039707, 0.5502846354673256, 1.4364938632755901, 0.7577448387022122, 0.691831211774578, 1.3895506741306836, 0.9876629123241939, 0.23064310704031135, -0.10023152006304814, 1.1206839390434622, -0.21527655699453943, 0.10653642366463692, -1.2069665793418747, -0.24031819021887058, 0.2553486207166424, 0.20574744102620143, -0.5044260860796331, 0.23056721248328302, -1.0518443905458084, -2.890119746157412, -1.4521048531888503, -1.2065760705635404, 0.7213219027367335, -2.153076090835888, -0.6793616342868698, 1.4076272343171603, 0.12741797198491148, -2.4889895776206448, -1.152306488866305, -1.1718464071389487, 0.15220891160111838, -0.07601943117966796, -0.9793994323621947, 0.1713507535169366, -0.8314598593846867, -0.12615904447506945, -0.696356870373812, -0.925882243711537, 0.9785445272560227, -0.36673291451865303, 0.2965957804499003, -1.0409788442473458, 0.7586014542364385, 0.5829518777254145, -0.8094180804315694, -1.013715746931829, -1.035320305823692, -0.3312837911530136, -0.0031976413270179693, -0.4662505669541226, -0.6050793910273182, -0.5225693568575551, 1.2485387039903946, 0.3140429470385445, -1.0328370427002977, -1.2779985588465321, 0.26386098478434183, 0.921171096543847, 1.1956111880598308, -0.03481636022109916, -0.3070386710514798, 0.6616862238806783, 0.4699547735549651, 0.43705657473857656, 0.25951258606806427, 0.39840046167275217, -0.02602454598817024, 0.8903510234579498, 0.6135844239909828, 3.4305394609748228, 0.9285207407965379, -1.7258358801711087, -0.8374320543803766, -0.06159724830110598, -0.8999104922079434, 0.45796710142112695, -0.2737224840847113, 0.8697319052756125, 1.3633198872949546, 1.2051114675925982, 0.2390375126061991, 1.1661369564822728, 3.5767243570819116, 3.7903350912632816, 1.0546952788758335, 1.2728841836169427, -0.2192775528170215, 0.6869762250808232, 1.4787789658343207, -1.50170980567449, -0.30819498345046126, -0.4087734217917928, 0.04852756505450754, -0.8567773352940176, -0.7403981320869335, -0.009068327453000834, 0.5454838007805789, -0.07134920796519803, -0.7488055395994844, -0.8793468858520287, -0.37143773595736534, -1.03622558567491, 0.6711492638133852, 0.3188381881276827, 0.27568402610016185, 1.1281643024386094, 1.0499090445620187, 0.6273584503465383, 0.47115561543884105, -0.052259775540522364, 0.3869716822307126, -0.1893959060349088, 0.6683861119278012, -0.66304520432295, 1.268840473513732, 1.3247254007768943, -0.4828421441297832, 0.9353293944209213, 0.75430968398071, 0.9806478454856736, -1.1652787163314804, -0.8978880662595383, -0.27422874768254246, 0.015480346925875396, 0.5807896245708684, -0.1843350916057129, 0.2953160469465653, -0.3895933218994594, 0.5885019355198805, -0.21706535466547938, -0.1251758651527101, 0.018024995000058497, 1.0585268387311912, 0.34949642154655686, 0.3120347462649435, -0.6882845476085586, 0.596903186064329]}], \"hovertemplate\": \"%{xaxis.title.text}=%{x}<br>%{yaxis.title.text}=%{y}<br>color=%{marker.color}<extra></extra>\", \"legendgroup\": \"\", \"marker\": {\"color\": [1, 1, 1, 1, 1, 1, 1, 1, 1, 1, 1, 1, 1, 1, 1, 1, 1, 1, 1, 1, 1, 1, 1, 1, 1, 1, 1, 1, 1, 1, 1, 1, 1, 1, 1, 1, 1, 1, 1, 1, 1, 1, 1, 1, 1, 1, 1, 1, 1, 1, 1, 1, 1, 1, 1, 1, 1, 1, 1, 2, 2, 2, 2, 2, 2, 2, 2, 2, 2, 2, 2, 2, 2, 2, 2, 2, 2, 2, 2, 2, 2, 2, 2, 2, 2, 2, 2, 2, 2, 2, 2, 2, 2, 2, 2, 2, 2, 2, 2, 2, 2, 2, 2, 2, 2, 2, 2, 2, 2, 2, 2, 2, 2, 2, 2, 2, 2, 2, 2, 2, 2, 2, 2, 2, 2, 2, 2, 2, 2, 2, 3, 3, 3, 3, 3, 3, 3, 3, 3, 3, 3, 3, 3, 3, 3, 3, 3, 3, 3, 3, 3, 3, 3, 3, 3, 3, 3, 3, 3, 3, 3, 3, 3, 3, 3, 3, 3, 3, 3, 3, 3, 3, 3, 3, 3, 3, 3, 3], \"coloraxis\": \"coloraxis\", \"symbol\": \"circle\"}, \"name\": \"\", \"showlegend\": false, \"type\": \"splom\"}],                        {\"coloraxis\": {\"colorbar\": {\"title\": {\"text\": \"color\"}}, \"colorscale\": [[0.0, \"#0d0887\"], [0.1111111111111111, \"#46039f\"], [0.2222222222222222, \"#7201a8\"], [0.3333333333333333, \"#9c179e\"], [0.4444444444444444, \"#bd3786\"], [0.5555555555555556, \"#d8576b\"], [0.6666666666666666, \"#ed7953\"], [0.7777777777777778, \"#fb9f3a\"], [0.8888888888888888, \"#fdca26\"], [1.0, \"#f0f921\"]]}, \"dragmode\": \"select\", \"legend\": {\"tracegroupgap\": 0}, \"margin\": {\"t\": 60}, \"template\": {\"data\": {\"bar\": [{\"error_x\": {\"color\": \"#2a3f5f\"}, \"error_y\": {\"color\": \"#2a3f5f\"}, \"marker\": {\"line\": {\"color\": \"#E5ECF6\", \"width\": 0.5}}, \"type\": \"bar\"}], \"barpolar\": [{\"marker\": {\"line\": {\"color\": \"#E5ECF6\", \"width\": 0.5}}, \"type\": \"barpolar\"}], \"carpet\": [{\"aaxis\": {\"endlinecolor\": \"#2a3f5f\", \"gridcolor\": \"white\", \"linecolor\": \"white\", \"minorgridcolor\": \"white\", \"startlinecolor\": \"#2a3f5f\"}, \"baxis\": {\"endlinecolor\": \"#2a3f5f\", \"gridcolor\": \"white\", \"linecolor\": \"white\", \"minorgridcolor\": \"white\", \"startlinecolor\": \"#2a3f5f\"}, \"type\": \"carpet\"}], \"choropleth\": [{\"colorbar\": {\"outlinewidth\": 0, \"ticks\": \"\"}, \"type\": \"choropleth\"}], \"contour\": [{\"colorbar\": {\"outlinewidth\": 0, \"ticks\": \"\"}, \"colorscale\": [[0.0, \"#0d0887\"], [0.1111111111111111, \"#46039f\"], [0.2222222222222222, \"#7201a8\"], [0.3333333333333333, \"#9c179e\"], [0.4444444444444444, \"#bd3786\"], [0.5555555555555556, \"#d8576b\"], [0.6666666666666666, \"#ed7953\"], [0.7777777777777778, \"#fb9f3a\"], [0.8888888888888888, \"#fdca26\"], [1.0, \"#f0f921\"]], \"type\": \"contour\"}], \"contourcarpet\": [{\"colorbar\": {\"outlinewidth\": 0, \"ticks\": \"\"}, \"type\": \"contourcarpet\"}], \"heatmap\": [{\"colorbar\": {\"outlinewidth\": 0, \"ticks\": \"\"}, \"colorscale\": [[0.0, \"#0d0887\"], [0.1111111111111111, \"#46039f\"], [0.2222222222222222, \"#7201a8\"], [0.3333333333333333, \"#9c179e\"], [0.4444444444444444, \"#bd3786\"], [0.5555555555555556, \"#d8576b\"], [0.6666666666666666, \"#ed7953\"], [0.7777777777777778, \"#fb9f3a\"], [0.8888888888888888, \"#fdca26\"], [1.0, \"#f0f921\"]], \"type\": \"heatmap\"}], \"heatmapgl\": [{\"colorbar\": {\"outlinewidth\": 0, \"ticks\": \"\"}, \"colorscale\": [[0.0, \"#0d0887\"], [0.1111111111111111, \"#46039f\"], [0.2222222222222222, \"#7201a8\"], [0.3333333333333333, \"#9c179e\"], [0.4444444444444444, \"#bd3786\"], [0.5555555555555556, \"#d8576b\"], [0.6666666666666666, \"#ed7953\"], [0.7777777777777778, \"#fb9f3a\"], [0.8888888888888888, \"#fdca26\"], [1.0, \"#f0f921\"]], \"type\": \"heatmapgl\"}], \"histogram\": [{\"marker\": {\"colorbar\": {\"outlinewidth\": 0, \"ticks\": \"\"}}, \"type\": \"histogram\"}], \"histogram2d\": [{\"colorbar\": {\"outlinewidth\": 0, \"ticks\": \"\"}, \"colorscale\": [[0.0, \"#0d0887\"], [0.1111111111111111, \"#46039f\"], [0.2222222222222222, \"#7201a8\"], [0.3333333333333333, \"#9c179e\"], [0.4444444444444444, \"#bd3786\"], [0.5555555555555556, \"#d8576b\"], [0.6666666666666666, \"#ed7953\"], [0.7777777777777778, \"#fb9f3a\"], [0.8888888888888888, \"#fdca26\"], [1.0, \"#f0f921\"]], \"type\": \"histogram2d\"}], \"histogram2dcontour\": [{\"colorbar\": {\"outlinewidth\": 0, \"ticks\": \"\"}, \"colorscale\": [[0.0, \"#0d0887\"], [0.1111111111111111, \"#46039f\"], [0.2222222222222222, \"#7201a8\"], [0.3333333333333333, \"#9c179e\"], [0.4444444444444444, \"#bd3786\"], [0.5555555555555556, \"#d8576b\"], [0.6666666666666666, \"#ed7953\"], [0.7777777777777778, \"#fb9f3a\"], [0.8888888888888888, \"#fdca26\"], [1.0, \"#f0f921\"]], \"type\": \"histogram2dcontour\"}], \"mesh3d\": [{\"colorbar\": {\"outlinewidth\": 0, \"ticks\": \"\"}, \"type\": \"mesh3d\"}], \"parcoords\": [{\"line\": {\"colorbar\": {\"outlinewidth\": 0, \"ticks\": \"\"}}, \"type\": \"parcoords\"}], \"pie\": [{\"automargin\": true, \"type\": \"pie\"}], \"scatter\": [{\"marker\": {\"colorbar\": {\"outlinewidth\": 0, \"ticks\": \"\"}}, \"type\": \"scatter\"}], \"scatter3d\": [{\"line\": {\"colorbar\": {\"outlinewidth\": 0, \"ticks\": \"\"}}, \"marker\": {\"colorbar\": {\"outlinewidth\": 0, \"ticks\": \"\"}}, \"type\": \"scatter3d\"}], \"scattercarpet\": [{\"marker\": {\"colorbar\": {\"outlinewidth\": 0, \"ticks\": \"\"}}, \"type\": \"scattercarpet\"}], \"scattergeo\": [{\"marker\": {\"colorbar\": {\"outlinewidth\": 0, \"ticks\": \"\"}}, \"type\": \"scattergeo\"}], \"scattergl\": [{\"marker\": {\"colorbar\": {\"outlinewidth\": 0, \"ticks\": \"\"}}, \"type\": \"scattergl\"}], \"scattermapbox\": [{\"marker\": {\"colorbar\": {\"outlinewidth\": 0, \"ticks\": \"\"}}, \"type\": \"scattermapbox\"}], \"scatterpolar\": [{\"marker\": {\"colorbar\": {\"outlinewidth\": 0, \"ticks\": \"\"}}, \"type\": \"scatterpolar\"}], \"scatterpolargl\": [{\"marker\": {\"colorbar\": {\"outlinewidth\": 0, \"ticks\": \"\"}}, \"type\": \"scatterpolargl\"}], \"scatterternary\": [{\"marker\": {\"colorbar\": {\"outlinewidth\": 0, \"ticks\": \"\"}}, \"type\": \"scatterternary\"}], \"surface\": [{\"colorbar\": {\"outlinewidth\": 0, \"ticks\": \"\"}, \"colorscale\": [[0.0, \"#0d0887\"], [0.1111111111111111, \"#46039f\"], [0.2222222222222222, \"#7201a8\"], [0.3333333333333333, \"#9c179e\"], [0.4444444444444444, \"#bd3786\"], [0.5555555555555556, \"#d8576b\"], [0.6666666666666666, \"#ed7953\"], [0.7777777777777778, \"#fb9f3a\"], [0.8888888888888888, \"#fdca26\"], [1.0, \"#f0f921\"]], \"type\": \"surface\"}], \"table\": [{\"cells\": {\"fill\": {\"color\": \"#EBF0F8\"}, \"line\": {\"color\": \"white\"}}, \"header\": {\"fill\": {\"color\": \"#C8D4E3\"}, \"line\": {\"color\": \"white\"}}, \"type\": \"table\"}]}, \"layout\": {\"annotationdefaults\": {\"arrowcolor\": \"#2a3f5f\", \"arrowhead\": 0, \"arrowwidth\": 1}, \"coloraxis\": {\"colorbar\": {\"outlinewidth\": 0, \"ticks\": \"\"}}, \"colorscale\": {\"diverging\": [[0, \"#8e0152\"], [0.1, \"#c51b7d\"], [0.2, \"#de77ae\"], [0.3, \"#f1b6da\"], [0.4, \"#fde0ef\"], [0.5, \"#f7f7f7\"], [0.6, \"#e6f5d0\"], [0.7, \"#b8e186\"], [0.8, \"#7fbc41\"], [0.9, \"#4d9221\"], [1, \"#276419\"]], \"sequential\": [[0.0, \"#0d0887\"], [0.1111111111111111, \"#46039f\"], [0.2222222222222222, \"#7201a8\"], [0.3333333333333333, \"#9c179e\"], [0.4444444444444444, \"#bd3786\"], [0.5555555555555556, \"#d8576b\"], [0.6666666666666666, \"#ed7953\"], [0.7777777777777778, \"#fb9f3a\"], [0.8888888888888888, \"#fdca26\"], [1.0, \"#f0f921\"]], \"sequentialminus\": [[0.0, \"#0d0887\"], [0.1111111111111111, \"#46039f\"], [0.2222222222222222, \"#7201a8\"], [0.3333333333333333, \"#9c179e\"], [0.4444444444444444, \"#bd3786\"], [0.5555555555555556, \"#d8576b\"], [0.6666666666666666, \"#ed7953\"], [0.7777777777777778, \"#fb9f3a\"], [0.8888888888888888, \"#fdca26\"], [1.0, \"#f0f921\"]]}, \"colorway\": [\"#636efa\", \"#EF553B\", \"#00cc96\", \"#ab63fa\", \"#FFA15A\", \"#19d3f3\", \"#FF6692\", \"#B6E880\", \"#FF97FF\", \"#FECB52\"], \"font\": {\"color\": \"#2a3f5f\"}, \"geo\": {\"bgcolor\": \"white\", \"lakecolor\": \"white\", \"landcolor\": \"#E5ECF6\", \"showlakes\": true, \"showland\": true, \"subunitcolor\": \"white\"}, \"hoverlabel\": {\"align\": \"left\"}, \"hovermode\": \"closest\", \"mapbox\": {\"style\": \"light\"}, \"paper_bgcolor\": \"white\", \"plot_bgcolor\": \"#E5ECF6\", \"polar\": {\"angularaxis\": {\"gridcolor\": \"white\", \"linecolor\": \"white\", \"ticks\": \"\"}, \"bgcolor\": \"#E5ECF6\", \"radialaxis\": {\"gridcolor\": \"white\", \"linecolor\": \"white\", \"ticks\": \"\"}}, \"scene\": {\"xaxis\": {\"backgroundcolor\": \"#E5ECF6\", \"gridcolor\": \"white\", \"gridwidth\": 2, \"linecolor\": \"white\", \"showbackground\": true, \"ticks\": \"\", \"zerolinecolor\": \"white\"}, \"yaxis\": {\"backgroundcolor\": \"#E5ECF6\", \"gridcolor\": \"white\", \"gridwidth\": 2, \"linecolor\": \"white\", \"showbackground\": true, \"ticks\": \"\", \"zerolinecolor\": \"white\"}, \"zaxis\": {\"backgroundcolor\": \"#E5ECF6\", \"gridcolor\": \"white\", \"gridwidth\": 2, \"linecolor\": \"white\", \"showbackground\": true, \"ticks\": \"\", \"zerolinecolor\": \"white\"}}, \"shapedefaults\": {\"line\": {\"color\": \"#2a3f5f\"}}, \"ternary\": {\"aaxis\": {\"gridcolor\": \"white\", \"linecolor\": \"white\", \"ticks\": \"\"}, \"baxis\": {\"gridcolor\": \"white\", \"linecolor\": \"white\", \"ticks\": \"\"}, \"bgcolor\": \"#E5ECF6\", \"caxis\": {\"gridcolor\": \"white\", \"linecolor\": \"white\", \"ticks\": \"\"}}, \"title\": {\"x\": 0.05}, \"xaxis\": {\"automargin\": true, \"gridcolor\": \"white\", \"linecolor\": \"white\", \"ticks\": \"\", \"title\": {\"standoff\": 15}, \"zerolinecolor\": \"white\", \"zerolinewidth\": 2}, \"yaxis\": {\"automargin\": true, \"gridcolor\": \"white\", \"linecolor\": \"white\", \"ticks\": \"\", \"title\": {\"standoff\": 15}, \"zerolinecolor\": \"white\", \"zerolinewidth\": 2}}}},                        {\"responsive\": true}                    ).then(function(){\n",
       "                            \n",
       "var gd = document.getElementById('03f76c84-4e1f-4810-b036-2a69ff003ff0');\n",
       "var x = new MutationObserver(function (mutations, observer) {{\n",
       "        var display = window.getComputedStyle(gd).display;\n",
       "        if (!display || display === 'none') {{\n",
       "            console.log([gd, 'removed!']);\n",
       "            Plotly.purge(gd);\n",
       "            observer.disconnect();\n",
       "        }}\n",
       "}});\n",
       "\n",
       "// Listen for the removal of the full notebook cells\n",
       "var notebookContainer = gd.closest('#notebook-container');\n",
       "if (notebookContainer) {{\n",
       "    x.observe(notebookContainer, {childList: true});\n",
       "}}\n",
       "\n",
       "// Listen for the clearing of the current output cell\n",
       "var outputEl = gd.closest('.output');\n",
       "if (outputEl) {{\n",
       "    x.observe(outputEl, {childList: true});\n",
       "}}\n",
       "\n",
       "                        })                };                });            </script>        </div>"
      ]
     },
     "metadata": {},
     "output_type": "display_data"
    }
   ],
   "source": [
    "import plotly.express as px\n",
    "\n",
    "labels = {\n",
    "    str(i): f\"PC {i+1} ({var:.1f}%)\"\n",
    "    for i, var in enumerate(pca.explained_variance_ratio_ * 100)\n",
    "}\n",
    "\n",
    "fig = px.scatter_matrix(\n",
    "    pca_com,\n",
    "    labels=labels,\n",
    "    dimensions=range(4),\n",
    "    color=dataset[\"Type\"]\n",
    ")\n",
    "fig.update_traces(diagonal_visible=True)\n",
    "fig.show()"
   ]
  },
  {
   "cell_type": "code",
   "execution_count": 34,
   "metadata": {},
   "outputs": [
    {
     "data": {
      "application/vnd.plotly.v1+json": {
       "config": {
        "plotlyServerURL": "https://plot.ly"
       },
       "data": [
        {
         "hovertemplate": "0=%{x}<br>1=%{y}<br>2=%{z}<br>color=%{marker.color}<extra></extra>",
         "legendgroup": "",
         "marker": {
          "color": [
           1,
           1,
           1,
           1,
           1,
           1,
           1,
           1,
           1,
           1,
           1,
           1,
           1,
           1,
           1,
           1,
           1,
           1,
           1,
           1,
           1,
           1,
           1,
           1,
           1,
           1,
           1,
           1,
           1,
           1,
           1,
           1,
           1,
           1,
           1,
           1,
           1,
           1,
           1,
           1,
           1,
           1,
           1,
           1,
           1,
           1,
           1,
           1,
           1,
           1,
           1,
           1,
           1,
           1,
           1,
           1,
           1,
           1,
           1,
           2,
           2,
           2,
           2,
           2,
           2,
           2,
           2,
           2,
           2,
           2,
           2,
           2,
           2,
           2,
           2,
           2,
           2,
           2,
           2,
           2,
           2,
           2,
           2,
           2,
           2,
           2,
           2,
           2,
           2,
           2,
           2,
           2,
           2,
           2,
           2,
           2,
           2,
           2,
           2,
           2,
           2,
           2,
           2,
           2,
           2,
           2,
           2,
           2,
           2,
           2,
           2,
           2,
           2,
           2,
           2,
           2,
           2,
           2,
           2,
           2,
           2,
           2,
           2,
           2,
           2,
           2,
           2,
           2,
           2,
           2,
           3,
           3,
           3,
           3,
           3,
           3,
           3,
           3,
           3,
           3,
           3,
           3,
           3,
           3,
           3,
           3,
           3,
           3,
           3,
           3,
           3,
           3,
           3,
           3,
           3,
           3,
           3,
           3,
           3,
           3,
           3,
           3,
           3,
           3,
           3,
           3,
           3,
           3,
           3,
           3,
           3,
           3,
           3,
           3,
           3,
           3,
           3,
           3
          ],
          "coloraxis": "coloraxis",
          "symbol": "circle"
         },
         "mode": "markers",
         "name": "",
         "scene": "scene",
         "showlegend": false,
         "type": "scatter3d",
         "x": [
          3.316750812214778,
          2.209464916918849,
          2.5167401466103825,
          3.757065609773208,
          1.0089084937957136,
          3.0502539224180802,
          2.4490896695962325,
          2.059436871437914,
          2.5108742973989893,
          2.7536281876339097,
          3.479736682731212,
          1.7547529012945888,
          2.1134623403150963,
          3.4581568193367223,
          4.312783906765564,
          2.3051882008279727,
          2.1719552737415135,
          1.8989711765627617,
          3.5419850819434706,
          2.084522204730312,
          3.1244025351672002,
          1.08657006833224,
          2.5352240799037147,
          1.6449883412544695,
          1.7615758722693002,
          0.9900791016088543,
          1.7752776281133693,
          1.2354239643099059,
          2.188406334451961,
          2.2561089812837074,
          2.5002200257894245,
          2.6774110474440156,
          1.628579116430918,
          1.9026908622381473,
          1.4103885265954064,
          1.903826232194486,
          1.384862230374839,
          1.1222074104413104,
          1.502194500618192,
          2.529801092371811,
          2.5880954258544024,
          0.6684819937541877,
          3.0708069904120086,
          0.4622091375160081,
          2.1013519305380153,
          1.136166177561019,
          2.7266009636408035,
          2.8213392741922485,
          2.009850850912359,
          2.707491304266395,
          3.2149174747738245,
          2.858959826717294,
          3.505604355923225,
          2.2247913805321735,
          2.1469878235638675,
          2.4693294837977877,
          2.741517914277453,
          2.1737409209653076,
          3.1393801518289965,
          -0.9285819689218545,
          -1.542480137896881,
          -1.8362497634669392,
          0.030606834086679836,
          2.0502616075763154,
          -0.6096808271776234,
          0.9002278387071428,
          2.248507190798394,
          0.1833840266847551,
          -0.8128050273520715,
          1.9756204987985533,
          -1.5722162196263008,
          1.657681808833287,
          -0.7253723880353569,
          2.5622271731703585,
          1.8325675700495463,
          -0.8679929031954124,
          0.3700144042947824,
          -1.457377044906139,
          1.2629308497284968,
          0.37615037193423934,
          0.7620639041095973,
          1.034577967165187,
          -0.4948767556803291,
          -2.5389770842951207,
          0.8353201453942966,
          0.7879046149897087,
          -0.8068321559655397,
          -0.5580426248756845,
          -1.1151110419194472,
          -0.5557228299517029,
          -1.3492852824437314,
          -1.5644826057199066,
          -1.9325556106314645,
          0.7466659419884489,
          0.9574553638036396,
          2.543865184199552,
          -0.54395258877623,
          1.031049750388148,
          2.251909422148123,
          1.4102160153374586,
          0.7977197926930412,
          -0.5495317266494646,
          -0.16117373994854636,
          -0.6597949416843613,
          0.392354408185082,
          -1.7724990779600354,
          -0.36626735735206517,
          -1.6206725727874802,
          0.0825357834933265,
          1.57827507093238,
          1.4205692478240157,
          -0.27870275364885555,
          -1.303144966248281,
          -0.45707186565262625,
          -0.4941858470443765,
          0.4820744097730912,
          -0.25288887765320095,
          -0.1072276377291252,
          -2.4330126025502175,
          -0.551089539174651,
          0.7396219285682207,
          1.3363217334183284,
          -1.177086996247774,
          -0.46233500801967875,
          0.9784740793566472,
          -0.09680972631598667,
          0.03848714594902389,
          -1.5971585012074736,
          -0.4795649160831276,
          -1.792833473031144,
          -1.3271016561416022,
          -2.384500834743529,
          -2.936940102146613,
          -2.1468111338160636,
          -2.3698694883330425,
          -3.0638415687203544,
          -3.915753783711889,
          -3.9364633907159634,
          -3.094276117762275,
          -2.3744716280069236,
          -2.778812947632514,
          -2.286561284738469,
          -2.985633487449466,
          -2.3751946982271077,
          -2.2098655255958706,
          -2.62562100469272,
          -4.2806387787510864,
          -3.582641372001103,
          -2.8070637200816586,
          -2.8996593330239104,
          -2.3207369765492043,
          -2.5498309472261353,
          -1.8125412848422993,
          -2.760144641923949,
          -2.7371505006679904,
          -3.604868868183423,
          -2.889825996873506,
          -3.39215607683572,
          -1.0481818968536778,
          -1.6099122828479357,
          -3.143130966743974,
          -2.2401568962695424,
          -2.84767377611952,
          -2.597497056648764,
          -2.949299373134844,
          -3.5300322663493113,
          -2.406110540478551,
          -2.929084726967454,
          -2.1814127788126214,
          -2.38092778713564,
          -3.211617215041248,
          -3.6779187209738153,
          -2.465555798040449,
          -3.370524145442859,
          -2.601955851224737,
          -2.6778394608645004,
          -2.387017091279719,
          -3.2087581641980223
         ],
         "y": [
          -1.443462634318008,
          0.33339288708030146,
          -1.0311512962743188,
          -2.75637191371071,
          -0.8698308214172059,
          -2.122401114634189,
          -1.1748501316494728,
          -1.6089630683635066,
          -0.9180709573337749,
          -0.7894376738336051,
          -1.3023332371235927,
          -0.6119772287456297,
          -0.6757063391426174,
          -1.1306298761729352,
          -2.0959755753412597,
          -1.6625517299890553,
          -2.327305336191418,
          -1.631368878642837,
          -2.5183436693066437,
          -1.06113799358386,
          -0.786897105650894,
          -0.24174355133284023,
          0.09184062072088074,
          0.5162789300672347,
          0.31714893268438027,
          -0.9406673381906369,
          -0.6861751342850231,
          0.08980704136064127,
          -0.6895696206616246,
          -0.1914619368866637,
          -1.2408338348969428,
          -1.4718736461032473,
          -0.05270445057532314,
          -1.6330604347699833,
          -0.6979343246113565,
          -0.17671095109545606,
          -0.6586398536611493,
          -0.11410976029688813,
          0.7694320064310094,
          -1.8030019760618266,
          -0.7796163041925067,
          -0.16996094061987393,
          -1.1559189566098818,
          -0.33074213219227455,
          0.07100892095406751,
          -1.777107392977636,
          -1.191334691957182,
          -0.6462585991417019,
          -1.247029460678759,
          -1.7519674072063354,
          -0.1669919949967888,
          -0.7452788039895878,
          -1.6127338560350089,
          -1.8751679995630237,
          -1.0167515377576584,
          -1.3290083106496215,
          -1.436548783512513,
          -1.2121998406977934,
          -1.7315791159925111,
          3.0734861631889294,
          1.381443508094228,
          0.8299841230557184,
          1.2627861442114028,
          1.9250326046500996,
          1.908058805085185,
          0.7639114736096075,
          1.8845924845501336,
          2.42714611470357,
          0.22051398690226962,
          1.4032832253096141,
          0.8849831369082215,
          0.9567121974591469,
          1.0636454007060936,
          -0.26019855065459885,
          1.287878197860524,
          2.4441011855808625,
          2.153906975156988,
          1.3833517690762582,
          0.770849529970117,
          1.0270434033558207,
          3.375053809963532,
          1.4507097382440912,
          2.381243526767366,
          0.08744335730498212,
          1.473670551400865,
          2.026626522462475,
          2.2338303908439094,
          2.372985428849451,
          1.8022471916654517,
          2.6575400353922904,
          2.1180014697848155,
          1.8522145217655481,
          1.5594954568986203,
          2.312931709220738,
          2.223528434667458,
          -0.16927402279974152,
          0.36892654587731444,
          2.565569348733522,
          1.4327413803542546,
          2.166191769370382,
          2.376948803081861,
          2.2931286432456255,
          1.1644833215600139,
          2.679961185989634,
          2.098731708765536,
          1.7172884693761408,
          2.1693532978292813,
          1.3555833880259556,
          2.3062345877483232,
          1.4620342902048133,
          1.4182066376337492,
          1.9305680886704664,
          0.7631723136577889,
          2.269415607589672,
          1.9390450494868297,
          3.8717838484072344,
          2.8214923747015908,
          1.928922042566956,
          1.2571410404943937,
          2.22216155077662,
          1.4089566673657101,
          -0.25333693116830974,
          0.6639668398015683,
          0.6182881794850423,
          1.445570498895825,
          2.109997993135223,
          1.2667621091578836,
          1.2081435741284816,
          1.9388406603940453,
          1.1502881044421036,
          -0.1703892320490277,
          -0.37458260552469336,
          -0.2638618300683805,
          -0.3682549518864609,
          0.4596348092311667,
          -0.35341283545840185,
          -0.15458251944173246,
          -0.6596872334097827,
          -0.3488427592737948,
          -0.2919803515599948,
          -0.28680487288217493,
          -0.37250784468529796,
          -0.48921790834701334,
          -0.4823337172448761,
          -1.1600525041576417,
          -0.5631607642108332,
          -0.649670964023704,
          -1.2727027497272998,
          -1.5705337870411957,
          -2.0410570079384627,
          -2.3563660755566724,
          -2.045283091019522,
          -1.5276459462687517,
          -2.1389323476426085,
          -0.4098862708817892,
          -1.8023842175839646,
          -1.9252186131303404,
          -1.3118763884735962,
          -3.515089691219728,
          -2.4066381595743267,
          -0.7381610441757966,
          -1.1754652881188639,
          -0.5560439658826739,
          -0.6979655372009186,
          -1.555308964283981,
          -0.8825267962042346,
          -2.592356175042396,
          -1.27444694790448,
          -2.0775373127345147,
          -2.5886674324185894,
          0.25124910442559123,
          -0.8477478441497625,
          -2.193798303654091,
          -2.216289139861134,
          -1.7572293509792731,
          -2.7608991316745435,
          -2.297346679712817,
          -2.7689195660475727
         ],
         "z": [
          -0.16573904461442007,
          -2.0264573738075344,
          0.9828186702120592,
          -0.17619184219949252,
          2.026688219235406,
          -0.6293958270439128,
          -0.9770948907141963,
          0.1462818830615594,
          -1.7709690272289433,
          -0.9842474895182357,
          -0.42273521658084645,
          -1.190878319630174,
          -0.8650864256166538,
          -1.2042763525381928,
          -1.2639127523580003,
          0.21790261559595825,
          0.8317298659860064,
          0.7949137923810689,
          -0.4854585076662926,
          -0.1647466784994744,
          -0.3648870829888468,
          0.9369615996106446,
          -0.3119326593479692,
          0.1438850946707965,
          0.8902856474056893,
          3.8209080081948352,
          -0.08670040648876316,
          -1.3868965448964348,
          1.394566880850359,
          -1.092657257508293,
          1.3860178547156776,
          -0.33226172837509327,
          -0.1671287062453345,
          1.172082119175345,
          0.47974302516866163,
          0.4508350400372085,
          0.4584385808520618,
          -0.03910727668974833,
          -1.4261773458904599,
          -0.3431523889796925,
          -0.11847746611373723,
          -0.7833625480611448,
          -0.3127580839341547,
          -0.2014764962567722,
          -0.6558494150434344,
          0.028705735784751548,
          -0.5397732611476733,
          -1.1555524107274076,
          -0.05729398793992371,
          -0.6431136120007949,
          -1.973571679901373,
          0.004719502164697304,
          -0.5207745300761751,
          0.33954985035420876,
          -0.9577627619503268,
          0.513437453035969,
          -0.6124733957169594,
          0.26177959277079,
          -0.28566141261644984,
          -4.585064007148202,
          -0.8746831124458077,
          -1.6057021863206185,
          -1.7844080104188529,
          -0.007368777349816226,
          0.6793579379775365,
          0.5733613020971908,
          -2.0318401928675858,
          -1.0697455602477952,
          -0.7070053958009666,
          -1.2382762196848631,
          -0.6289979502315939,
          1.9525842166061969,
          0.08033222861543736,
          3.374393962239756,
          0.4582800273995598,
          -1.5633331789503764,
          -2.449386348303737,
          -0.22730690232730374,
          -1.1842245173752424,
          1.7944662945426584,
          -0.35747005553946315,
          -0.36301177316395994,
          1.3357431762848673,
          0.47425139276914613,
          0.6100935756921061,
          -0.254723403969549,
          0.7728557971982648,
          2.307611404012005,
          0.9592533076886547,
          0.8491268977432266,
          -0.04765232084869185,
          0.7810670309346317,
          -0.089274676108679,
          0.11467976874541624,
          0.14244477369872727,
          0.7886969907454751,
          1.3088959318568594,
          -1.086390173817738,
          -0.23020824379781418,
          0.7488964107708784,
          -1.5681125312755235,
          -1.4989353232010756,
          1.003713102837356,
          -0.7649208684795126,
          -0.4718500076097364,
          0.9470331744608647,
          -0.4813242347422895,
          0.28715900069561595,
          -0.46357498937395375,
          1.779645954733284,
          0.13927582948819092,
          0.07867055304723447,
          1.999596510486854,
          1.0613389675926657,
          1.3239380723766936,
          1.3442712233930736,
          -0.30263978453063844,
          0.6901482425075119,
          -1.9030274044113495,
          -0.35622883021253443,
          1.1253454920042367,
          5.34538817919574,
          3.010221887946427,
          0.4834423663441809,
          1.4812369749959458,
          0.434826115616789,
          0.687577912872808,
          3.3611755553864264,
          1.2965075188296693,
          0.7828001731822649,
          -1.1800133553094858,
          -0.7238225948116626,
          -0.1676398159837209,
          -0.4533013014691855,
          -1.1013997885920574,
          -1.0991241041153401,
          0.22182779984104734,
          1.7122154192145347,
          -1.0268314134224503,
          1.2419143328305637,
          0.6096701239723722,
          -0.9716430323608529,
          0.9469529317999698,
          -0.2528839940533336,
          -1.2451252259210632,
          -0.8559610818033769,
          -1.4581969616385675,
          -0.11078403762472745,
          -0.4725279345720873,
          -0.4959598102350944,
          0.4376817436187606,
          -0.31226799865093186,
          1.3625897815878694,
          -0.9646286882006808,
          -1.1904046839669853,
          -0.09403686133597389,
          -0.7823225555084492,
          1.6020259689000211,
          1.1600385659132233,
          0.5485596972407076,
          -0.09099872392222327,
          -0.10137693249612169,
          0.8042152181010284,
          -0.8849395211306327,
          -0.9834007272249415,
          -0.46602912777854044,
          0.42822621079957646,
          -1.2133582715051479,
          0.7637825515581178,
          1.4180440294968122,
          -0.8471291521285003,
          -1.3394202310855163,
          -0.9187809604264914,
          -0.34256951241432376,
          0.20758135498125038,
          -0.9409418766769951,
          -0.5506961970110879,
          1.0139136641131112
         ]
        }
       ],
       "layout": {
        "coloraxis": {
         "colorbar": {
          "title": {
           "text": "color"
          }
         },
         "colorscale": [
          [
           0,
           "#0d0887"
          ],
          [
           0.1111111111111111,
           "#46039f"
          ],
          [
           0.2222222222222222,
           "#7201a8"
          ],
          [
           0.3333333333333333,
           "#9c179e"
          ],
          [
           0.4444444444444444,
           "#bd3786"
          ],
          [
           0.5555555555555556,
           "#d8576b"
          ],
          [
           0.6666666666666666,
           "#ed7953"
          ],
          [
           0.7777777777777778,
           "#fb9f3a"
          ],
          [
           0.8888888888888888,
           "#fdca26"
          ],
          [
           1,
           "#f0f921"
          ]
         ]
        },
        "legend": {
         "tracegroupgap": 0
        },
        "scene": {
         "domain": {
          "x": [
           0,
           1
          ],
          "y": [
           0,
           1
          ]
         },
         "xaxis": {
          "title": {
           "text": "0"
          }
         },
         "yaxis": {
          "title": {
           "text": "1"
          }
         },
         "zaxis": {
          "title": {
           "text": "2"
          }
         }
        },
        "template": {
         "data": {
          "bar": [
           {
            "error_x": {
             "color": "#2a3f5f"
            },
            "error_y": {
             "color": "#2a3f5f"
            },
            "marker": {
             "line": {
              "color": "#E5ECF6",
              "width": 0.5
             }
            },
            "type": "bar"
           }
          ],
          "barpolar": [
           {
            "marker": {
             "line": {
              "color": "#E5ECF6",
              "width": 0.5
             }
            },
            "type": "barpolar"
           }
          ],
          "carpet": [
           {
            "aaxis": {
             "endlinecolor": "#2a3f5f",
             "gridcolor": "white",
             "linecolor": "white",
             "minorgridcolor": "white",
             "startlinecolor": "#2a3f5f"
            },
            "baxis": {
             "endlinecolor": "#2a3f5f",
             "gridcolor": "white",
             "linecolor": "white",
             "minorgridcolor": "white",
             "startlinecolor": "#2a3f5f"
            },
            "type": "carpet"
           }
          ],
          "choropleth": [
           {
            "colorbar": {
             "outlinewidth": 0,
             "ticks": ""
            },
            "type": "choropleth"
           }
          ],
          "contour": [
           {
            "colorbar": {
             "outlinewidth": 0,
             "ticks": ""
            },
            "colorscale": [
             [
              0,
              "#0d0887"
             ],
             [
              0.1111111111111111,
              "#46039f"
             ],
             [
              0.2222222222222222,
              "#7201a8"
             ],
             [
              0.3333333333333333,
              "#9c179e"
             ],
             [
              0.4444444444444444,
              "#bd3786"
             ],
             [
              0.5555555555555556,
              "#d8576b"
             ],
             [
              0.6666666666666666,
              "#ed7953"
             ],
             [
              0.7777777777777778,
              "#fb9f3a"
             ],
             [
              0.8888888888888888,
              "#fdca26"
             ],
             [
              1,
              "#f0f921"
             ]
            ],
            "type": "contour"
           }
          ],
          "contourcarpet": [
           {
            "colorbar": {
             "outlinewidth": 0,
             "ticks": ""
            },
            "type": "contourcarpet"
           }
          ],
          "heatmap": [
           {
            "colorbar": {
             "outlinewidth": 0,
             "ticks": ""
            },
            "colorscale": [
             [
              0,
              "#0d0887"
             ],
             [
              0.1111111111111111,
              "#46039f"
             ],
             [
              0.2222222222222222,
              "#7201a8"
             ],
             [
              0.3333333333333333,
              "#9c179e"
             ],
             [
              0.4444444444444444,
              "#bd3786"
             ],
             [
              0.5555555555555556,
              "#d8576b"
             ],
             [
              0.6666666666666666,
              "#ed7953"
             ],
             [
              0.7777777777777778,
              "#fb9f3a"
             ],
             [
              0.8888888888888888,
              "#fdca26"
             ],
             [
              1,
              "#f0f921"
             ]
            ],
            "type": "heatmap"
           }
          ],
          "heatmapgl": [
           {
            "colorbar": {
             "outlinewidth": 0,
             "ticks": ""
            },
            "colorscale": [
             [
              0,
              "#0d0887"
             ],
             [
              0.1111111111111111,
              "#46039f"
             ],
             [
              0.2222222222222222,
              "#7201a8"
             ],
             [
              0.3333333333333333,
              "#9c179e"
             ],
             [
              0.4444444444444444,
              "#bd3786"
             ],
             [
              0.5555555555555556,
              "#d8576b"
             ],
             [
              0.6666666666666666,
              "#ed7953"
             ],
             [
              0.7777777777777778,
              "#fb9f3a"
             ],
             [
              0.8888888888888888,
              "#fdca26"
             ],
             [
              1,
              "#f0f921"
             ]
            ],
            "type": "heatmapgl"
           }
          ],
          "histogram": [
           {
            "marker": {
             "colorbar": {
              "outlinewidth": 0,
              "ticks": ""
             }
            },
            "type": "histogram"
           }
          ],
          "histogram2d": [
           {
            "colorbar": {
             "outlinewidth": 0,
             "ticks": ""
            },
            "colorscale": [
             [
              0,
              "#0d0887"
             ],
             [
              0.1111111111111111,
              "#46039f"
             ],
             [
              0.2222222222222222,
              "#7201a8"
             ],
             [
              0.3333333333333333,
              "#9c179e"
             ],
             [
              0.4444444444444444,
              "#bd3786"
             ],
             [
              0.5555555555555556,
              "#d8576b"
             ],
             [
              0.6666666666666666,
              "#ed7953"
             ],
             [
              0.7777777777777778,
              "#fb9f3a"
             ],
             [
              0.8888888888888888,
              "#fdca26"
             ],
             [
              1,
              "#f0f921"
             ]
            ],
            "type": "histogram2d"
           }
          ],
          "histogram2dcontour": [
           {
            "colorbar": {
             "outlinewidth": 0,
             "ticks": ""
            },
            "colorscale": [
             [
              0,
              "#0d0887"
             ],
             [
              0.1111111111111111,
              "#46039f"
             ],
             [
              0.2222222222222222,
              "#7201a8"
             ],
             [
              0.3333333333333333,
              "#9c179e"
             ],
             [
              0.4444444444444444,
              "#bd3786"
             ],
             [
              0.5555555555555556,
              "#d8576b"
             ],
             [
              0.6666666666666666,
              "#ed7953"
             ],
             [
              0.7777777777777778,
              "#fb9f3a"
             ],
             [
              0.8888888888888888,
              "#fdca26"
             ],
             [
              1,
              "#f0f921"
             ]
            ],
            "type": "histogram2dcontour"
           }
          ],
          "mesh3d": [
           {
            "colorbar": {
             "outlinewidth": 0,
             "ticks": ""
            },
            "type": "mesh3d"
           }
          ],
          "parcoords": [
           {
            "line": {
             "colorbar": {
              "outlinewidth": 0,
              "ticks": ""
             }
            },
            "type": "parcoords"
           }
          ],
          "pie": [
           {
            "automargin": true,
            "type": "pie"
           }
          ],
          "scatter": [
           {
            "marker": {
             "colorbar": {
              "outlinewidth": 0,
              "ticks": ""
             }
            },
            "type": "scatter"
           }
          ],
          "scatter3d": [
           {
            "line": {
             "colorbar": {
              "outlinewidth": 0,
              "ticks": ""
             }
            },
            "marker": {
             "colorbar": {
              "outlinewidth": 0,
              "ticks": ""
             }
            },
            "type": "scatter3d"
           }
          ],
          "scattercarpet": [
           {
            "marker": {
             "colorbar": {
              "outlinewidth": 0,
              "ticks": ""
             }
            },
            "type": "scattercarpet"
           }
          ],
          "scattergeo": [
           {
            "marker": {
             "colorbar": {
              "outlinewidth": 0,
              "ticks": ""
             }
            },
            "type": "scattergeo"
           }
          ],
          "scattergl": [
           {
            "marker": {
             "colorbar": {
              "outlinewidth": 0,
              "ticks": ""
             }
            },
            "type": "scattergl"
           }
          ],
          "scattermapbox": [
           {
            "marker": {
             "colorbar": {
              "outlinewidth": 0,
              "ticks": ""
             }
            },
            "type": "scattermapbox"
           }
          ],
          "scatterpolar": [
           {
            "marker": {
             "colorbar": {
              "outlinewidth": 0,
              "ticks": ""
             }
            },
            "type": "scatterpolar"
           }
          ],
          "scatterpolargl": [
           {
            "marker": {
             "colorbar": {
              "outlinewidth": 0,
              "ticks": ""
             }
            },
            "type": "scatterpolargl"
           }
          ],
          "scatterternary": [
           {
            "marker": {
             "colorbar": {
              "outlinewidth": 0,
              "ticks": ""
             }
            },
            "type": "scatterternary"
           }
          ],
          "surface": [
           {
            "colorbar": {
             "outlinewidth": 0,
             "ticks": ""
            },
            "colorscale": [
             [
              0,
              "#0d0887"
             ],
             [
              0.1111111111111111,
              "#46039f"
             ],
             [
              0.2222222222222222,
              "#7201a8"
             ],
             [
              0.3333333333333333,
              "#9c179e"
             ],
             [
              0.4444444444444444,
              "#bd3786"
             ],
             [
              0.5555555555555556,
              "#d8576b"
             ],
             [
              0.6666666666666666,
              "#ed7953"
             ],
             [
              0.7777777777777778,
              "#fb9f3a"
             ],
             [
              0.8888888888888888,
              "#fdca26"
             ],
             [
              1,
              "#f0f921"
             ]
            ],
            "type": "surface"
           }
          ],
          "table": [
           {
            "cells": {
             "fill": {
              "color": "#EBF0F8"
             },
             "line": {
              "color": "white"
             }
            },
            "header": {
             "fill": {
              "color": "#C8D4E3"
             },
             "line": {
              "color": "white"
             }
            },
            "type": "table"
           }
          ]
         },
         "layout": {
          "annotationdefaults": {
           "arrowcolor": "#2a3f5f",
           "arrowhead": 0,
           "arrowwidth": 1
          },
          "coloraxis": {
           "colorbar": {
            "outlinewidth": 0,
            "ticks": ""
           }
          },
          "colorscale": {
           "diverging": [
            [
             0,
             "#8e0152"
            ],
            [
             0.1,
             "#c51b7d"
            ],
            [
             0.2,
             "#de77ae"
            ],
            [
             0.3,
             "#f1b6da"
            ],
            [
             0.4,
             "#fde0ef"
            ],
            [
             0.5,
             "#f7f7f7"
            ],
            [
             0.6,
             "#e6f5d0"
            ],
            [
             0.7,
             "#b8e186"
            ],
            [
             0.8,
             "#7fbc41"
            ],
            [
             0.9,
             "#4d9221"
            ],
            [
             1,
             "#276419"
            ]
           ],
           "sequential": [
            [
             0,
             "#0d0887"
            ],
            [
             0.1111111111111111,
             "#46039f"
            ],
            [
             0.2222222222222222,
             "#7201a8"
            ],
            [
             0.3333333333333333,
             "#9c179e"
            ],
            [
             0.4444444444444444,
             "#bd3786"
            ],
            [
             0.5555555555555556,
             "#d8576b"
            ],
            [
             0.6666666666666666,
             "#ed7953"
            ],
            [
             0.7777777777777778,
             "#fb9f3a"
            ],
            [
             0.8888888888888888,
             "#fdca26"
            ],
            [
             1,
             "#f0f921"
            ]
           ],
           "sequentialminus": [
            [
             0,
             "#0d0887"
            ],
            [
             0.1111111111111111,
             "#46039f"
            ],
            [
             0.2222222222222222,
             "#7201a8"
            ],
            [
             0.3333333333333333,
             "#9c179e"
            ],
            [
             0.4444444444444444,
             "#bd3786"
            ],
            [
             0.5555555555555556,
             "#d8576b"
            ],
            [
             0.6666666666666666,
             "#ed7953"
            ],
            [
             0.7777777777777778,
             "#fb9f3a"
            ],
            [
             0.8888888888888888,
             "#fdca26"
            ],
            [
             1,
             "#f0f921"
            ]
           ]
          },
          "colorway": [
           "#636efa",
           "#EF553B",
           "#00cc96",
           "#ab63fa",
           "#FFA15A",
           "#19d3f3",
           "#FF6692",
           "#B6E880",
           "#FF97FF",
           "#FECB52"
          ],
          "font": {
           "color": "#2a3f5f"
          },
          "geo": {
           "bgcolor": "white",
           "lakecolor": "white",
           "landcolor": "#E5ECF6",
           "showlakes": true,
           "showland": true,
           "subunitcolor": "white"
          },
          "hoverlabel": {
           "align": "left"
          },
          "hovermode": "closest",
          "mapbox": {
           "style": "light"
          },
          "paper_bgcolor": "white",
          "plot_bgcolor": "#E5ECF6",
          "polar": {
           "angularaxis": {
            "gridcolor": "white",
            "linecolor": "white",
            "ticks": ""
           },
           "bgcolor": "#E5ECF6",
           "radialaxis": {
            "gridcolor": "white",
            "linecolor": "white",
            "ticks": ""
           }
          },
          "scene": {
           "xaxis": {
            "backgroundcolor": "#E5ECF6",
            "gridcolor": "white",
            "gridwidth": 2,
            "linecolor": "white",
            "showbackground": true,
            "ticks": "",
            "zerolinecolor": "white"
           },
           "yaxis": {
            "backgroundcolor": "#E5ECF6",
            "gridcolor": "white",
            "gridwidth": 2,
            "linecolor": "white",
            "showbackground": true,
            "ticks": "",
            "zerolinecolor": "white"
           },
           "zaxis": {
            "backgroundcolor": "#E5ECF6",
            "gridcolor": "white",
            "gridwidth": 2,
            "linecolor": "white",
            "showbackground": true,
            "ticks": "",
            "zerolinecolor": "white"
           }
          },
          "shapedefaults": {
           "line": {
            "color": "#2a3f5f"
           }
          },
          "ternary": {
           "aaxis": {
            "gridcolor": "white",
            "linecolor": "white",
            "ticks": ""
           },
           "baxis": {
            "gridcolor": "white",
            "linecolor": "white",
            "ticks": ""
           },
           "bgcolor": "#E5ECF6",
           "caxis": {
            "gridcolor": "white",
            "linecolor": "white",
            "ticks": ""
           }
          },
          "title": {
           "x": 0.05
          },
          "xaxis": {
           "automargin": true,
           "gridcolor": "white",
           "linecolor": "white",
           "ticks": "",
           "title": {
            "standoff": 15
           },
           "zerolinecolor": "white",
           "zerolinewidth": 2
          },
          "yaxis": {
           "automargin": true,
           "gridcolor": "white",
           "linecolor": "white",
           "ticks": "",
           "title": {
            "standoff": 15
           },
           "zerolinecolor": "white",
           "zerolinewidth": 2
          }
         }
        },
        "title": {
         "text": "Total Explained Variance: 96.17%"
        }
       }
      },
      "text/html": [
       "<div>                            <div id=\"471934be-d43d-4d83-aced-552e3f4bd494\" class=\"plotly-graph-div\" style=\"height:525px; width:100%;\"></div>            <script type=\"text/javascript\">                require([\"plotly\"], function(Plotly) {                    window.PLOTLYENV=window.PLOTLYENV || {};                                    if (document.getElementById(\"471934be-d43d-4d83-aced-552e3f4bd494\")) {                    Plotly.newPlot(                        \"471934be-d43d-4d83-aced-552e3f4bd494\",                        [{\"hovertemplate\": \"0=%{x}<br>1=%{y}<br>2=%{z}<br>color=%{marker.color}<extra></extra>\", \"legendgroup\": \"\", \"marker\": {\"color\": [1, 1, 1, 1, 1, 1, 1, 1, 1, 1, 1, 1, 1, 1, 1, 1, 1, 1, 1, 1, 1, 1, 1, 1, 1, 1, 1, 1, 1, 1, 1, 1, 1, 1, 1, 1, 1, 1, 1, 1, 1, 1, 1, 1, 1, 1, 1, 1, 1, 1, 1, 1, 1, 1, 1, 1, 1, 1, 1, 2, 2, 2, 2, 2, 2, 2, 2, 2, 2, 2, 2, 2, 2, 2, 2, 2, 2, 2, 2, 2, 2, 2, 2, 2, 2, 2, 2, 2, 2, 2, 2, 2, 2, 2, 2, 2, 2, 2, 2, 2, 2, 2, 2, 2, 2, 2, 2, 2, 2, 2, 2, 2, 2, 2, 2, 2, 2, 2, 2, 2, 2, 2, 2, 2, 2, 2, 2, 2, 2, 2, 3, 3, 3, 3, 3, 3, 3, 3, 3, 3, 3, 3, 3, 3, 3, 3, 3, 3, 3, 3, 3, 3, 3, 3, 3, 3, 3, 3, 3, 3, 3, 3, 3, 3, 3, 3, 3, 3, 3, 3, 3, 3, 3, 3, 3, 3, 3, 3], \"coloraxis\": \"coloraxis\", \"symbol\": \"circle\"}, \"mode\": \"markers\", \"name\": \"\", \"scene\": \"scene\", \"showlegend\": false, \"type\": \"scatter3d\", \"x\": [3.316750812214778, 2.209464916918849, 2.5167401466103825, 3.757065609773208, 1.0089084937957136, 3.0502539224180802, 2.4490896695962325, 2.059436871437914, 2.5108742973989893, 2.7536281876339097, 3.479736682731212, 1.7547529012945888, 2.1134623403150963, 3.4581568193367223, 4.312783906765564, 2.3051882008279727, 2.1719552737415135, 1.8989711765627617, 3.5419850819434706, 2.084522204730312, 3.1244025351672002, 1.08657006833224, 2.5352240799037147, 1.6449883412544695, 1.7615758722693002, 0.9900791016088543, 1.7752776281133693, 1.2354239643099059, 2.188406334451961, 2.2561089812837074, 2.5002200257894245, 2.6774110474440156, 1.628579116430918, 1.9026908622381473, 1.4103885265954064, 1.903826232194486, 1.384862230374839, 1.1222074104413104, 1.502194500618192, 2.529801092371811, 2.5880954258544024, 0.6684819937541877, 3.0708069904120086, 0.4622091375160081, 2.1013519305380153, 1.136166177561019, 2.7266009636408035, 2.8213392741922485, 2.009850850912359, 2.707491304266395, 3.2149174747738245, 2.858959826717294, 3.505604355923225, 2.2247913805321735, 2.1469878235638675, 2.4693294837977877, 2.741517914277453, 2.1737409209653076, 3.1393801518289965, -0.9285819689218545, -1.542480137896881, -1.8362497634669392, 0.030606834086679836, 2.0502616075763154, -0.6096808271776234, 0.9002278387071428, 2.248507190798394, 0.1833840266847551, -0.8128050273520715, 1.9756204987985533, -1.5722162196263008, 1.657681808833287, -0.7253723880353569, 2.5622271731703585, 1.8325675700495463, -0.8679929031954124, 0.3700144042947824, -1.457377044906139, 1.2629308497284968, 0.37615037193423934, 0.7620639041095973, 1.034577967165187, -0.4948767556803291, -2.5389770842951207, 0.8353201453942966, 0.7879046149897087, -0.8068321559655397, -0.5580426248756845, -1.1151110419194472, -0.5557228299517029, -1.3492852824437314, -1.5644826057199066, -1.9325556106314645, 0.7466659419884489, 0.9574553638036396, 2.543865184199552, -0.54395258877623, 1.031049750388148, 2.251909422148123, 1.4102160153374586, 0.7977197926930412, -0.5495317266494646, -0.16117373994854636, -0.6597949416843613, 0.392354408185082, -1.7724990779600354, -0.36626735735206517, -1.6206725727874802, 0.0825357834933265, 1.57827507093238, 1.4205692478240157, -0.27870275364885555, -1.303144966248281, -0.45707186565262625, -0.4941858470443765, 0.4820744097730912, -0.25288887765320095, -0.1072276377291252, -2.4330126025502175, -0.551089539174651, 0.7396219285682207, 1.3363217334183284, -1.177086996247774, -0.46233500801967875, 0.9784740793566472, -0.09680972631598667, 0.03848714594902389, -1.5971585012074736, -0.4795649160831276, -1.792833473031144, -1.3271016561416022, -2.384500834743529, -2.936940102146613, -2.1468111338160636, -2.3698694883330425, -3.0638415687203544, -3.915753783711889, -3.9364633907159634, -3.094276117762275, -2.3744716280069236, -2.778812947632514, -2.286561284738469, -2.985633487449466, -2.3751946982271077, -2.2098655255958706, -2.62562100469272, -4.2806387787510864, -3.582641372001103, -2.8070637200816586, -2.8996593330239104, -2.3207369765492043, -2.5498309472261353, -1.8125412848422993, -2.760144641923949, -2.7371505006679904, -3.604868868183423, -2.889825996873506, -3.39215607683572, -1.0481818968536778, -1.6099122828479357, -3.143130966743974, -2.2401568962695424, -2.84767377611952, -2.597497056648764, -2.949299373134844, -3.5300322663493113, -2.406110540478551, -2.929084726967454, -2.1814127788126214, -2.38092778713564, -3.211617215041248, -3.6779187209738153, -2.465555798040449, -3.370524145442859, -2.601955851224737, -2.6778394608645004, -2.387017091279719, -3.2087581641980223], \"y\": [-1.443462634318008, 0.33339288708030146, -1.0311512962743188, -2.75637191371071, -0.8698308214172059, -2.122401114634189, -1.1748501316494728, -1.6089630683635066, -0.9180709573337749, -0.7894376738336051, -1.3023332371235927, -0.6119772287456297, -0.6757063391426174, -1.1306298761729352, -2.0959755753412597, -1.6625517299890553, -2.327305336191418, -1.631368878642837, -2.5183436693066437, -1.06113799358386, -0.786897105650894, -0.24174355133284023, 0.09184062072088074, 0.5162789300672347, 0.31714893268438027, -0.9406673381906369, -0.6861751342850231, 0.08980704136064127, -0.6895696206616246, -0.1914619368866637, -1.2408338348969428, -1.4718736461032473, -0.05270445057532314, -1.6330604347699833, -0.6979343246113565, -0.17671095109545606, -0.6586398536611493, -0.11410976029688813, 0.7694320064310094, -1.8030019760618266, -0.7796163041925067, -0.16996094061987393, -1.1559189566098818, -0.33074213219227455, 0.07100892095406751, -1.777107392977636, -1.191334691957182, -0.6462585991417019, -1.247029460678759, -1.7519674072063354, -0.1669919949967888, -0.7452788039895878, -1.6127338560350089, -1.8751679995630237, -1.0167515377576584, -1.3290083106496215, -1.436548783512513, -1.2121998406977934, -1.7315791159925111, 3.0734861631889294, 1.381443508094228, 0.8299841230557184, 1.2627861442114028, 1.9250326046500996, 1.908058805085185, 0.7639114736096075, 1.8845924845501336, 2.42714611470357, 0.22051398690226962, 1.4032832253096141, 0.8849831369082215, 0.9567121974591469, 1.0636454007060936, -0.26019855065459885, 1.287878197860524, 2.4441011855808625, 2.153906975156988, 1.3833517690762582, 0.770849529970117, 1.0270434033558207, 3.375053809963532, 1.4507097382440912, 2.381243526767366, 0.08744335730498212, 1.473670551400865, 2.026626522462475, 2.2338303908439094, 2.372985428849451, 1.8022471916654517, 2.6575400353922904, 2.1180014697848155, 1.8522145217655481, 1.5594954568986203, 2.312931709220738, 2.223528434667458, -0.16927402279974152, 0.36892654587731444, 2.565569348733522, 1.4327413803542546, 2.166191769370382, 2.376948803081861, 2.2931286432456255, 1.1644833215600139, 2.679961185989634, 2.098731708765536, 1.7172884693761408, 2.1693532978292813, 1.3555833880259556, 2.3062345877483232, 1.4620342902048133, 1.4182066376337492, 1.9305680886704664, 0.7631723136577889, 2.269415607589672, 1.9390450494868297, 3.8717838484072344, 2.8214923747015908, 1.928922042566956, 1.2571410404943937, 2.22216155077662, 1.4089566673657101, -0.25333693116830974, 0.6639668398015683, 0.6182881794850423, 1.445570498895825, 2.109997993135223, 1.2667621091578836, 1.2081435741284816, 1.9388406603940453, 1.1502881044421036, -0.1703892320490277, -0.37458260552469336, -0.2638618300683805, -0.3682549518864609, 0.4596348092311667, -0.35341283545840185, -0.15458251944173246, -0.6596872334097827, -0.3488427592737948, -0.2919803515599948, -0.28680487288217493, -0.37250784468529796, -0.48921790834701334, -0.4823337172448761, -1.1600525041576417, -0.5631607642108332, -0.649670964023704, -1.2727027497272998, -1.5705337870411957, -2.0410570079384627, -2.3563660755566724, -2.045283091019522, -1.5276459462687517, -2.1389323476426085, -0.4098862708817892, -1.8023842175839646, -1.9252186131303404, -1.3118763884735962, -3.515089691219728, -2.4066381595743267, -0.7381610441757966, -1.1754652881188639, -0.5560439658826739, -0.6979655372009186, -1.555308964283981, -0.8825267962042346, -2.592356175042396, -1.27444694790448, -2.0775373127345147, -2.5886674324185894, 0.25124910442559123, -0.8477478441497625, -2.193798303654091, -2.216289139861134, -1.7572293509792731, -2.7608991316745435, -2.297346679712817, -2.7689195660475727], \"z\": [-0.16573904461442007, -2.0264573738075344, 0.9828186702120592, -0.17619184219949252, 2.026688219235406, -0.6293958270439128, -0.9770948907141963, 0.1462818830615594, -1.7709690272289433, -0.9842474895182357, -0.42273521658084645, -1.190878319630174, -0.8650864256166538, -1.2042763525381928, -1.2639127523580003, 0.21790261559595825, 0.8317298659860064, 0.7949137923810689, -0.4854585076662926, -0.1647466784994744, -0.3648870829888468, 0.9369615996106446, -0.3119326593479692, 0.1438850946707965, 0.8902856474056893, 3.8209080081948352, -0.08670040648876316, -1.3868965448964348, 1.394566880850359, -1.092657257508293, 1.3860178547156776, -0.33226172837509327, -0.1671287062453345, 1.172082119175345, 0.47974302516866163, 0.4508350400372085, 0.4584385808520618, -0.03910727668974833, -1.4261773458904599, -0.3431523889796925, -0.11847746611373723, -0.7833625480611448, -0.3127580839341547, -0.2014764962567722, -0.6558494150434344, 0.028705735784751548, -0.5397732611476733, -1.1555524107274076, -0.05729398793992371, -0.6431136120007949, -1.973571679901373, 0.004719502164697304, -0.5207745300761751, 0.33954985035420876, -0.9577627619503268, 0.513437453035969, -0.6124733957169594, 0.26177959277079, -0.28566141261644984, -4.585064007148202, -0.8746831124458077, -1.6057021863206185, -1.7844080104188529, -0.007368777349816226, 0.6793579379775365, 0.5733613020971908, -2.0318401928675858, -1.0697455602477952, -0.7070053958009666, -1.2382762196848631, -0.6289979502315939, 1.9525842166061969, 0.08033222861543736, 3.374393962239756, 0.4582800273995598, -1.5633331789503764, -2.449386348303737, -0.22730690232730374, -1.1842245173752424, 1.7944662945426584, -0.35747005553946315, -0.36301177316395994, 1.3357431762848673, 0.47425139276914613, 0.6100935756921061, -0.254723403969549, 0.7728557971982648, 2.307611404012005, 0.9592533076886547, 0.8491268977432266, -0.04765232084869185, 0.7810670309346317, -0.089274676108679, 0.11467976874541624, 0.14244477369872727, 0.7886969907454751, 1.3088959318568594, -1.086390173817738, -0.23020824379781418, 0.7488964107708784, -1.5681125312755235, -1.4989353232010756, 1.003713102837356, -0.7649208684795126, -0.4718500076097364, 0.9470331744608647, -0.4813242347422895, 0.28715900069561595, -0.46357498937395375, 1.779645954733284, 0.13927582948819092, 0.07867055304723447, 1.999596510486854, 1.0613389675926657, 1.3239380723766936, 1.3442712233930736, -0.30263978453063844, 0.6901482425075119, -1.9030274044113495, -0.35622883021253443, 1.1253454920042367, 5.34538817919574, 3.010221887946427, 0.4834423663441809, 1.4812369749959458, 0.434826115616789, 0.687577912872808, 3.3611755553864264, 1.2965075188296693, 0.7828001731822649, -1.1800133553094858, -0.7238225948116626, -0.1676398159837209, -0.4533013014691855, -1.1013997885920574, -1.0991241041153401, 0.22182779984104734, 1.7122154192145347, -1.0268314134224503, 1.2419143328305637, 0.6096701239723722, -0.9716430323608529, 0.9469529317999698, -0.2528839940533336, -1.2451252259210632, -0.8559610818033769, -1.4581969616385675, -0.11078403762472745, -0.4725279345720873, -0.4959598102350944, 0.4376817436187606, -0.31226799865093186, 1.3625897815878694, -0.9646286882006808, -1.1904046839669853, -0.09403686133597389, -0.7823225555084492, 1.6020259689000211, 1.1600385659132233, 0.5485596972407076, -0.09099872392222327, -0.10137693249612169, 0.8042152181010284, -0.8849395211306327, -0.9834007272249415, -0.46602912777854044, 0.42822621079957646, -1.2133582715051479, 0.7637825515581178, 1.4180440294968122, -0.8471291521285003, -1.3394202310855163, -0.9187809604264914, -0.34256951241432376, 0.20758135498125038, -0.9409418766769951, -0.5506961970110879, 1.0139136641131112]}],                        {\"coloraxis\": {\"colorbar\": {\"title\": {\"text\": \"color\"}}, \"colorscale\": [[0.0, \"#0d0887\"], [0.1111111111111111, \"#46039f\"], [0.2222222222222222, \"#7201a8\"], [0.3333333333333333, \"#9c179e\"], [0.4444444444444444, \"#bd3786\"], [0.5555555555555556, \"#d8576b\"], [0.6666666666666666, \"#ed7953\"], [0.7777777777777778, \"#fb9f3a\"], [0.8888888888888888, \"#fdca26\"], [1.0, \"#f0f921\"]]}, \"legend\": {\"tracegroupgap\": 0}, \"scene\": {\"domain\": {\"x\": [0.0, 1.0], \"y\": [0.0, 1.0]}, \"xaxis\": {\"title\": {\"text\": \"0\"}}, \"yaxis\": {\"title\": {\"text\": \"1\"}}, \"zaxis\": {\"title\": {\"text\": \"2\"}}}, \"template\": {\"data\": {\"bar\": [{\"error_x\": {\"color\": \"#2a3f5f\"}, \"error_y\": {\"color\": \"#2a3f5f\"}, \"marker\": {\"line\": {\"color\": \"#E5ECF6\", \"width\": 0.5}}, \"type\": \"bar\"}], \"barpolar\": [{\"marker\": {\"line\": {\"color\": \"#E5ECF6\", \"width\": 0.5}}, \"type\": \"barpolar\"}], \"carpet\": [{\"aaxis\": {\"endlinecolor\": \"#2a3f5f\", \"gridcolor\": \"white\", \"linecolor\": \"white\", \"minorgridcolor\": \"white\", \"startlinecolor\": \"#2a3f5f\"}, \"baxis\": {\"endlinecolor\": \"#2a3f5f\", \"gridcolor\": \"white\", \"linecolor\": \"white\", \"minorgridcolor\": \"white\", \"startlinecolor\": \"#2a3f5f\"}, \"type\": \"carpet\"}], \"choropleth\": [{\"colorbar\": {\"outlinewidth\": 0, \"ticks\": \"\"}, \"type\": \"choropleth\"}], \"contour\": [{\"colorbar\": {\"outlinewidth\": 0, \"ticks\": \"\"}, \"colorscale\": [[0.0, \"#0d0887\"], [0.1111111111111111, \"#46039f\"], [0.2222222222222222, \"#7201a8\"], [0.3333333333333333, \"#9c179e\"], [0.4444444444444444, \"#bd3786\"], [0.5555555555555556, \"#d8576b\"], [0.6666666666666666, \"#ed7953\"], [0.7777777777777778, \"#fb9f3a\"], [0.8888888888888888, \"#fdca26\"], [1.0, \"#f0f921\"]], \"type\": \"contour\"}], \"contourcarpet\": [{\"colorbar\": {\"outlinewidth\": 0, \"ticks\": \"\"}, \"type\": \"contourcarpet\"}], \"heatmap\": [{\"colorbar\": {\"outlinewidth\": 0, \"ticks\": \"\"}, \"colorscale\": [[0.0, \"#0d0887\"], [0.1111111111111111, \"#46039f\"], [0.2222222222222222, \"#7201a8\"], [0.3333333333333333, \"#9c179e\"], [0.4444444444444444, \"#bd3786\"], [0.5555555555555556, \"#d8576b\"], [0.6666666666666666, \"#ed7953\"], [0.7777777777777778, \"#fb9f3a\"], [0.8888888888888888, \"#fdca26\"], [1.0, \"#f0f921\"]], \"type\": \"heatmap\"}], \"heatmapgl\": [{\"colorbar\": {\"outlinewidth\": 0, \"ticks\": \"\"}, \"colorscale\": [[0.0, \"#0d0887\"], [0.1111111111111111, \"#46039f\"], [0.2222222222222222, \"#7201a8\"], [0.3333333333333333, \"#9c179e\"], [0.4444444444444444, \"#bd3786\"], [0.5555555555555556, \"#d8576b\"], [0.6666666666666666, \"#ed7953\"], [0.7777777777777778, \"#fb9f3a\"], [0.8888888888888888, \"#fdca26\"], [1.0, \"#f0f921\"]], \"type\": \"heatmapgl\"}], \"histogram\": [{\"marker\": {\"colorbar\": {\"outlinewidth\": 0, \"ticks\": \"\"}}, \"type\": \"histogram\"}], \"histogram2d\": [{\"colorbar\": {\"outlinewidth\": 0, \"ticks\": \"\"}, \"colorscale\": [[0.0, \"#0d0887\"], [0.1111111111111111, \"#46039f\"], [0.2222222222222222, \"#7201a8\"], [0.3333333333333333, \"#9c179e\"], [0.4444444444444444, \"#bd3786\"], [0.5555555555555556, \"#d8576b\"], [0.6666666666666666, \"#ed7953\"], [0.7777777777777778, \"#fb9f3a\"], [0.8888888888888888, \"#fdca26\"], [1.0, \"#f0f921\"]], \"type\": \"histogram2d\"}], \"histogram2dcontour\": [{\"colorbar\": {\"outlinewidth\": 0, \"ticks\": \"\"}, \"colorscale\": [[0.0, \"#0d0887\"], [0.1111111111111111, \"#46039f\"], [0.2222222222222222, \"#7201a8\"], [0.3333333333333333, \"#9c179e\"], [0.4444444444444444, \"#bd3786\"], [0.5555555555555556, \"#d8576b\"], [0.6666666666666666, \"#ed7953\"], [0.7777777777777778, \"#fb9f3a\"], [0.8888888888888888, \"#fdca26\"], [1.0, \"#f0f921\"]], \"type\": \"histogram2dcontour\"}], \"mesh3d\": [{\"colorbar\": {\"outlinewidth\": 0, \"ticks\": \"\"}, \"type\": \"mesh3d\"}], \"parcoords\": [{\"line\": {\"colorbar\": {\"outlinewidth\": 0, \"ticks\": \"\"}}, \"type\": \"parcoords\"}], \"pie\": [{\"automargin\": true, \"type\": \"pie\"}], \"scatter\": [{\"marker\": {\"colorbar\": {\"outlinewidth\": 0, \"ticks\": \"\"}}, \"type\": \"scatter\"}], \"scatter3d\": [{\"line\": {\"colorbar\": {\"outlinewidth\": 0, \"ticks\": \"\"}}, \"marker\": {\"colorbar\": {\"outlinewidth\": 0, \"ticks\": \"\"}}, \"type\": \"scatter3d\"}], \"scattercarpet\": [{\"marker\": {\"colorbar\": {\"outlinewidth\": 0, \"ticks\": \"\"}}, \"type\": \"scattercarpet\"}], \"scattergeo\": [{\"marker\": {\"colorbar\": {\"outlinewidth\": 0, \"ticks\": \"\"}}, \"type\": \"scattergeo\"}], \"scattergl\": [{\"marker\": {\"colorbar\": {\"outlinewidth\": 0, \"ticks\": \"\"}}, \"type\": \"scattergl\"}], \"scattermapbox\": [{\"marker\": {\"colorbar\": {\"outlinewidth\": 0, \"ticks\": \"\"}}, \"type\": \"scattermapbox\"}], \"scatterpolar\": [{\"marker\": {\"colorbar\": {\"outlinewidth\": 0, \"ticks\": \"\"}}, \"type\": \"scatterpolar\"}], \"scatterpolargl\": [{\"marker\": {\"colorbar\": {\"outlinewidth\": 0, \"ticks\": \"\"}}, \"type\": \"scatterpolargl\"}], \"scatterternary\": [{\"marker\": {\"colorbar\": {\"outlinewidth\": 0, \"ticks\": \"\"}}, \"type\": \"scatterternary\"}], \"surface\": [{\"colorbar\": {\"outlinewidth\": 0, \"ticks\": \"\"}, \"colorscale\": [[0.0, \"#0d0887\"], [0.1111111111111111, \"#46039f\"], [0.2222222222222222, \"#7201a8\"], [0.3333333333333333, \"#9c179e\"], [0.4444444444444444, \"#bd3786\"], [0.5555555555555556, \"#d8576b\"], [0.6666666666666666, \"#ed7953\"], [0.7777777777777778, \"#fb9f3a\"], [0.8888888888888888, \"#fdca26\"], [1.0, \"#f0f921\"]], \"type\": \"surface\"}], \"table\": [{\"cells\": {\"fill\": {\"color\": \"#EBF0F8\"}, \"line\": {\"color\": \"white\"}}, \"header\": {\"fill\": {\"color\": \"#C8D4E3\"}, \"line\": {\"color\": \"white\"}}, \"type\": \"table\"}]}, \"layout\": {\"annotationdefaults\": {\"arrowcolor\": \"#2a3f5f\", \"arrowhead\": 0, \"arrowwidth\": 1}, \"coloraxis\": {\"colorbar\": {\"outlinewidth\": 0, \"ticks\": \"\"}}, \"colorscale\": {\"diverging\": [[0, \"#8e0152\"], [0.1, \"#c51b7d\"], [0.2, \"#de77ae\"], [0.3, \"#f1b6da\"], [0.4, \"#fde0ef\"], [0.5, \"#f7f7f7\"], [0.6, \"#e6f5d0\"], [0.7, \"#b8e186\"], [0.8, \"#7fbc41\"], [0.9, \"#4d9221\"], [1, \"#276419\"]], \"sequential\": [[0.0, \"#0d0887\"], [0.1111111111111111, \"#46039f\"], [0.2222222222222222, \"#7201a8\"], [0.3333333333333333, \"#9c179e\"], [0.4444444444444444, \"#bd3786\"], [0.5555555555555556, \"#d8576b\"], [0.6666666666666666, \"#ed7953\"], [0.7777777777777778, \"#fb9f3a\"], [0.8888888888888888, \"#fdca26\"], [1.0, \"#f0f921\"]], \"sequentialminus\": [[0.0, \"#0d0887\"], [0.1111111111111111, \"#46039f\"], [0.2222222222222222, \"#7201a8\"], [0.3333333333333333, \"#9c179e\"], [0.4444444444444444, \"#bd3786\"], [0.5555555555555556, \"#d8576b\"], [0.6666666666666666, \"#ed7953\"], [0.7777777777777778, \"#fb9f3a\"], [0.8888888888888888, \"#fdca26\"], [1.0, \"#f0f921\"]]}, \"colorway\": [\"#636efa\", \"#EF553B\", \"#00cc96\", \"#ab63fa\", \"#FFA15A\", \"#19d3f3\", \"#FF6692\", \"#B6E880\", \"#FF97FF\", \"#FECB52\"], \"font\": {\"color\": \"#2a3f5f\"}, \"geo\": {\"bgcolor\": \"white\", \"lakecolor\": \"white\", \"landcolor\": \"#E5ECF6\", \"showlakes\": true, \"showland\": true, \"subunitcolor\": \"white\"}, \"hoverlabel\": {\"align\": \"left\"}, \"hovermode\": \"closest\", \"mapbox\": {\"style\": \"light\"}, \"paper_bgcolor\": \"white\", \"plot_bgcolor\": \"#E5ECF6\", \"polar\": {\"angularaxis\": {\"gridcolor\": \"white\", \"linecolor\": \"white\", \"ticks\": \"\"}, \"bgcolor\": \"#E5ECF6\", \"radialaxis\": {\"gridcolor\": \"white\", \"linecolor\": \"white\", \"ticks\": \"\"}}, \"scene\": {\"xaxis\": {\"backgroundcolor\": \"#E5ECF6\", \"gridcolor\": \"white\", \"gridwidth\": 2, \"linecolor\": \"white\", \"showbackground\": true, \"ticks\": \"\", \"zerolinecolor\": \"white\"}, \"yaxis\": {\"backgroundcolor\": \"#E5ECF6\", \"gridcolor\": \"white\", \"gridwidth\": 2, \"linecolor\": \"white\", \"showbackground\": true, \"ticks\": \"\", \"zerolinecolor\": \"white\"}, \"zaxis\": {\"backgroundcolor\": \"#E5ECF6\", \"gridcolor\": \"white\", \"gridwidth\": 2, \"linecolor\": \"white\", \"showbackground\": true, \"ticks\": \"\", \"zerolinecolor\": \"white\"}}, \"shapedefaults\": {\"line\": {\"color\": \"#2a3f5f\"}}, \"ternary\": {\"aaxis\": {\"gridcolor\": \"white\", \"linecolor\": \"white\", \"ticks\": \"\"}, \"baxis\": {\"gridcolor\": \"white\", \"linecolor\": \"white\", \"ticks\": \"\"}, \"bgcolor\": \"#E5ECF6\", \"caxis\": {\"gridcolor\": \"white\", \"linecolor\": \"white\", \"ticks\": \"\"}}, \"title\": {\"x\": 0.05}, \"xaxis\": {\"automargin\": true, \"gridcolor\": \"white\", \"linecolor\": \"white\", \"ticks\": \"\", \"title\": {\"standoff\": 15}, \"zerolinecolor\": \"white\", \"zerolinewidth\": 2}, \"yaxis\": {\"automargin\": true, \"gridcolor\": \"white\", \"linecolor\": \"white\", \"ticks\": \"\", \"title\": {\"standoff\": 15}, \"zerolinecolor\": \"white\", \"zerolinewidth\": 2}}}, \"title\": {\"text\": \"Total Explained Variance: 96.17%\"}},                        {\"responsive\": true}                    ).then(function(){\n",
       "                            \n",
       "var gd = document.getElementById('471934be-d43d-4d83-aced-552e3f4bd494');\n",
       "var x = new MutationObserver(function (mutations, observer) {{\n",
       "        var display = window.getComputedStyle(gd).display;\n",
       "        if (!display || display === 'none') {{\n",
       "            console.log([gd, 'removed!']);\n",
       "            Plotly.purge(gd);\n",
       "            observer.disconnect();\n",
       "        }}\n",
       "}});\n",
       "\n",
       "// Listen for the removal of the full notebook cells\n",
       "var notebookContainer = gd.closest('#notebook-container');\n",
       "if (notebookContainer) {{\n",
       "    x.observe(notebookContainer, {childList: true});\n",
       "}}\n",
       "\n",
       "// Listen for the clearing of the current output cell\n",
       "var outputEl = gd.closest('.output');\n",
       "if (outputEl) {{\n",
       "    x.observe(outputEl, {childList: true});\n",
       "}}\n",
       "\n",
       "                        })                };                });            </script>        </div>"
      ]
     },
     "metadata": {},
     "output_type": "display_data"
    }
   ],
   "source": [
    "total_var = pca.explained_variance_ratio_.sum() * 100\n",
    "\n",
    "fig = px.scatter_3d(\n",
    "    pca_com, x=0, y=1, z=2, color=dataset[\"Type\"],\n",
    "    title=f'Total Explained Variance: {total_var:.2f}%'\n",
    ")\n",
    "fig.show()"
   ]
  },
  {
   "cell_type": "markdown",
   "metadata": {},
   "source": [
    " ### UInderstanding Concept..Selecting max. number of PCA components"
   ]
  },
  {
   "cell_type": "markdown",
   "metadata": {},
   "source": [
    "THis is the long way to clear concept..instead of doing this you may directly by using PCA hyperparameter n_componets =0.95"
   ]
  },
  {
   "cell_type": "code",
   "execution_count": 33,
   "metadata": {},
   "outputs": [
    {
     "data": {
      "image/png": "[encoded data removed]",
      "text/plain": [
       "<Figure size 432x288 with 1 Axes>"
      ]
     },
     "metadata": {},
     "output_type": "display_data"
    }
   ],
   "source": [
    "pca_Selection = PCA(random_state=42)\n",
    "pca_example = pca_Selection.fit_transform(x)\n",
    "\n",
    "\n",
    "plt.plot(np.arange(1, 14, step=1), np.cumsum(pca_Selection.explained_variance_ratio_))\n",
    "plt.axhline(y=0.95, color='r', linestyle='-')\n",
    "plt.text(0.5, 0.85, '95% cut-off threshold', color = 'red', fontsize=16)\n",
    "plt.ylabel('Explained Variance')\n",
    "plt.xlabel('Principal Components')\n",
    "plt.title('Explained Variance Ratio')\n",
    "plt.show()"
   ]
  },
  {
   "cell_type": "markdown",
   "metadata": {},
   "source": [
    "****"
   ]
  },
  {
   "cell_type": "markdown",
   "metadata": {},
   "source": [
    "# K-means clustering:"
   ]
  },
  {
   "cell_type": "markdown",
   "metadata": {},
   "source": [
    " ### How many clusters?\n",
    "To find the best k value for k-means we'll look at the distortion at different k values. Distortion computes the sum of squared distances from each point to its assigned center. When distortion is plotted against k there will be a k value after which decreases in distortion are minimal. This is the desired number of clusters.\n",
    "\n"
   ]
  },
  {
   "cell_type": "code",
   "execution_count": 49,
   "metadata": {},
   "outputs": [
    {
     "data": {
      "image/png": "[encoded data removed]",
      "text/plain": [
       "<Figure size 432x288 with 1 Axes>"
      ]
     },
     "metadata": {},
     "output_type": "display_data"
    }
   ],
   "source": [
    "from sklearn.cluster import KMeans\n",
    "\n",
    "wcss = []\n",
    "for i in range(1, 11):\n",
    "    kmeans = KMeans(n_clusters=i,random_state=0)\n",
    "    kmeans.fit(pca_com)\n",
    "    wcss.append(kmeans.inertia_)\n",
    "    \n",
    "plt.plot(range(1, 11), wcss)\n",
    "plt.title('Elbow Method')\n",
    "plt.xlabel('Number of clusters')\n",
    "plt.ylabel('WCSS')\n",
    "plt.show()"
   ]
  },
  {
   "cell_type": "markdown",
   "metadata": {},
   "source": [
    " ## Selecting the number of clusters with silhouette analysis on KMeans clustering"
   ]
  },
  {
   "cell_type": "code",
   "execution_count": 59,
   "metadata": {},
   "outputs": [
    {
     "data": {
      "text/plain": [
       "array([1, 2, 3], dtype=int64)"
      ]
     },
     "execution_count": 59,
     "metadata": {},
     "output_type": "execute_result"
    }
   ],
   "source": [
    "y.Type.unique()"
   ]
  },
  {
   "cell_type": "code",
   "execution_count": 92,
   "metadata": {},
   "outputs": [
    {
     "name": "stdout",
     "output_type": "stream",
     "text": [
      "For n_clusters = 2 The average silhouette_score is : 0.26967763793560773\n",
      "For n_clusters = 3 The average silhouette_score is : 0.29867482943692875\n",
      "For n_clusters = 4 The average silhouette_score is : 0.2677009093649607\n",
      "For n_clusters = 5 The average silhouette_score is : 0.23637215393225694\n",
      "For n_clusters = 6 The average silhouette_score is : 0.20774156816572462\n"
     ]
    }
   ],
   "source": [
    "from sklearn.cluster import KMeans\n",
    "from sklearn.metrics import silhouette_samples, silhouette_score\n",
    "\n",
    "n_clusters = [2,3,4,5,6]\n",
    "\n",
    "for n_clusters in n_clusters:\n",
    "    clusterer = KMeans(n_clusters=n_clusters, random_state=10)\n",
    "    cluster_labels = clusterer.fit_predict(pca_com)\n",
    "    silhouette_avg = silhouette_score(pca_com, cluster_labels)\n",
    "    print(\"For n_clusters =\", n_clusters,\"The average silhouette_score is :\", silhouette_avg)"
   ]
  },
  {
   "cell_type": "code",
   "execution_count": null,
   "metadata": {},
   "outputs": [],
   "source": []
  }
 ],
 "metadata": {
  "kernelspec": {
   "display_name": "Python 3",
   "language": "python",
   "name": "python3"
  },
  "language_info": {
   "codemirror_mode": {
    "name": "ipython",
    "version": 3
   },
   "file_extension": ".py",
   "mimetype": "text/x-python",
   "name": "python",
   "nbconvert_exporter": "python",
   "pygments_lexer": "ipython3",
   "version": "3.8.3"
  }
 },
 "nbformat": 4,
 "nbformat_minor": 4
}
